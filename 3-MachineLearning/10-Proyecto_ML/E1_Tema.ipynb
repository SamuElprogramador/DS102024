{
 "cells": [
  {
   "cell_type": "markdown",
   "metadata": {},
   "source": [
    "# Primera entrega ML"
   ]
  },
  {
   "cell_type": "markdown",
   "metadata": {},
   "source": [
    "### Título de proyecto"
   ]
  },
  {
   "cell_type": "markdown",
   "metadata": {},
   "source": [
    "\n",
    "\"TENDENCIA SINIESTRALIDAD DE TRAFICO EN MADRID\""
   ]
  },
  {
   "cell_type": "markdown",
   "metadata": {},
   "source": [
    "### Tema"
   ]
  },
  {
   "cell_type": "markdown",
   "metadata": {},
   "source": [
    "#### VOLVIENDO AL EDA DE LA SINIESTRALIDAD DEL TRAFICO EN MADRID EN 2023, QUIERO PREDECIR SI LA TENDENCIA SE PODRIA REPETIR EN 2024 Y UNA VEZ DESCUBIERTO COMPARARLOS YA QUE UNA VEZ TERMINADO EL AÑO, PODEMOS CONTEJARLO Y PODER INCLUSO PREDECIR TENDENCIAS PARA AÑOS POSTERIORES. "
   ]
  },
  {
   "cell_type": "markdown",
   "metadata": {},
   "source": [
    "### Datasets y fuentes alternativas de datos\n",
    "Incluye aquí una breve descripción del dataset o datasets para tu proyecto. Incluye también las fuentes de cada uno de ellos."
   ]
  },
  {
   "cell_type": "markdown",
   "metadata": {},
   "source": [
    "### Tipo de ML ='Regresion'\n",
    "\n",
    "### Target description = \"Precedir el numero de accidentes en años posteriores y días de mayor siniestralidad'\n",
    "\n",
    "### Métricas = Creo que con el RMSE me serviría para llevar a cabo la predicción ya que no considero que pueda tener valores atípicos, el MAE también sería válido y lo tendré en cuenta. "
   ]
  },
  {
   "cell_type": "markdown",
   "metadata": {},
   "source": [
    "Archivo CSV obtenido de la web del ayuntamiento de Madrid\n",
    "\n",
    "Enlace = [Ayto De Madrid](https://datos.madrid.es/portal/site/egob/menuitem.c05c1f754a33a9fbe4b2e4b284f1a5a0/?vgnextoid=7c2843010d9c3610VgnVCM2000001f4a900aRCRD&vgnextchannel=374512b9ace9f310VgnVCM100000171f5a0aRCRD&vgnextfmt=default)"
   ]
  },
  {
   "cell_type": "code",
   "execution_count": null,
   "metadata": {},
   "outputs": [],
   "source": [
    "# load dataset\n",
    "# df_1.head()"
   ]
  }
 ],
 "metadata": {
  "kernelspec": {
   "display_name": "bootcamp-ds-DW8nmJ3b-py3.11",
   "language": "python",
   "name": "python3"
  },
  "language_info": {
   "codemirror_mode": {
    "name": "ipython",
    "version": 3
   },
   "file_extension": ".py",
   "mimetype": "text/x-python",
   "name": "python",
   "nbconvert_exporter": "python",
   "pygments_lexer": "ipython3",
   "version": "3.11.9"
  },
  "orig_nbformat": 4
 },
 "nbformat": 4,
 "nbformat_minor": 2
}
