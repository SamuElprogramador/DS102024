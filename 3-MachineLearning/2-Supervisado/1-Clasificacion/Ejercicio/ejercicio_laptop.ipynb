{
 "cells": [
  {
   "cell_type": "markdown",
   "metadata": {},
   "source": [
    "### Importar bibliotecas"
   ]
  },
  {
   "cell_type": "code",
   "execution_count": 34,
   "metadata": {},
   "outputs": [],
   "source": [
    "import pandas as pd\n",
    "import matplotlib as plt\n",
    "import numpy as np"
   ]
  },
  {
   "cell_type": "markdown",
   "metadata": {},
   "source": [
    "### Carga de datos formato JSON"
   ]
  },
  {
   "cell_type": "code",
   "execution_count": 3,
   "metadata": {},
   "outputs": [],
   "source": [
    "laptop = pd.read_parquet('C:/Users/sr_tu/Desktop/bootcamp/DS102024/3-MachineLearning/2-Supervisado/1-Clasificacion/Ejercicio/train.parquet')"
   ]
  },
  {
   "cell_type": "markdown",
   "metadata": {},
   "source": [
    "### Primeros pasos"
   ]
  },
  {
   "cell_type": "code",
   "execution_count": 4,
   "metadata": {},
   "outputs": [
    {
     "name": "stdout",
     "output_type": "stream",
     "text": [
      "<class 'pandas.core.frame.DataFrame'>\n",
      "RangeIndex: 912 entries, 0 to 911\n",
      "Data columns (total 13 columns):\n",
      " #   Column            Non-Null Count  Dtype  \n",
      "---  ------            --------------  -----  \n",
      " 0   laptop_ID         912 non-null    int64  \n",
      " 1   Company           912 non-null    object \n",
      " 2   Product           912 non-null    object \n",
      " 3   TypeName          912 non-null    object \n",
      " 4   Inches            912 non-null    object \n",
      " 5   ScreenResolution  912 non-null    object \n",
      " 6   Cpu               912 non-null    object \n",
      " 7   Ram               912 non-null    object \n",
      " 8   Memory            912 non-null    object \n",
      " 9   Gpu               912 non-null    object \n",
      " 10  OpSys             912 non-null    object \n",
      " 11  Weight            912 non-null    object \n",
      " 12  Price_euros       912 non-null    float64\n",
      "dtypes: float64(1), int64(1), object(11)\n",
      "memory usage: 92.8+ KB\n"
     ]
    }
   ],
   "source": [
    "laptop.info()"
   ]
  },
  {
   "cell_type": "markdown",
   "metadata": {},
   "source": [
    "### El fichero se compone de 912 lineas y 13 columnas y ningun valor nulo"
   ]
  },
  {
   "cell_type": "code",
   "execution_count": 5,
   "metadata": {},
   "outputs": [
    {
     "data": {
      "text/html": [
       "<div>\n",
       "<style scoped>\n",
       "    .dataframe tbody tr th:only-of-type {\n",
       "        vertical-align: middle;\n",
       "    }\n",
       "\n",
       "    .dataframe tbody tr th {\n",
       "        vertical-align: top;\n",
       "    }\n",
       "\n",
       "    .dataframe thead th {\n",
       "        text-align: right;\n",
       "    }\n",
       "</style>\n",
       "<table border=\"1\" class=\"dataframe\">\n",
       "  <thead>\n",
       "    <tr style=\"text-align: right;\">\n",
       "      <th></th>\n",
       "      <th>laptop_ID</th>\n",
       "      <th>Company</th>\n",
       "      <th>Product</th>\n",
       "      <th>TypeName</th>\n",
       "      <th>Inches</th>\n",
       "      <th>ScreenResolution</th>\n",
       "      <th>Cpu</th>\n",
       "      <th>Ram</th>\n",
       "      <th>Memory</th>\n",
       "      <th>Gpu</th>\n",
       "      <th>OpSys</th>\n",
       "      <th>Weight</th>\n",
       "      <th>Price_euros</th>\n",
       "    </tr>\n",
       "  </thead>\n",
       "  <tbody>\n",
       "    <tr>\n",
       "      <th>907</th>\n",
       "      <td>837</td>\n",
       "      <td>Acer</td>\n",
       "      <td>Chromebook 11</td>\n",
       "      <td>Netbook</td>\n",
       "      <td>11.6</td>\n",
       "      <td>IPS Panel 1366x768</td>\n",
       "      <td>Intel Celeron Dual Core N3060 1.6GHz</td>\n",
       "      <td>4GB</td>\n",
       "      <td>32GB Flash Storage</td>\n",
       "      <td>Intel HD Graphics 400</td>\n",
       "      <td>Chrome OS</td>\n",
       "      <td>1.35kg</td>\n",
       "      <td>355.00</td>\n",
       "    </tr>\n",
       "    <tr>\n",
       "      <th>908</th>\n",
       "      <td>626</td>\n",
       "      <td>Acer</td>\n",
       "      <td>CB5-132T-C9KK (N3160/4GB/32GB/Chrome</td>\n",
       "      <td>2 in 1 Convertible</td>\n",
       "      <td>11.6</td>\n",
       "      <td>IPS Panel Touchscreen 1366x768</td>\n",
       "      <td>Intel Celeron Quad Core N3160 1.6GHz</td>\n",
       "      <td>4GB</td>\n",
       "      <td>32GB Flash Storage</td>\n",
       "      <td>Intel HD Graphics 400</td>\n",
       "      <td>Chrome OS</td>\n",
       "      <td>1.25kg</td>\n",
       "      <td>379.00</td>\n",
       "    </tr>\n",
       "    <tr>\n",
       "      <th>909</th>\n",
       "      <td>225</td>\n",
       "      <td>Dell</td>\n",
       "      <td>Inspiron 3576</td>\n",
       "      <td>Notebook</td>\n",
       "      <td>15.6</td>\n",
       "      <td>Full HD 1920x1080</td>\n",
       "      <td>Intel Core i5 8250U 1.6GHz</td>\n",
       "      <td>8GB</td>\n",
       "      <td>256GB SSD</td>\n",
       "      <td>AMD Radeon 520</td>\n",
       "      <td>Linux</td>\n",
       "      <td>2.2kg</td>\n",
       "      <td>677.35</td>\n",
       "    </tr>\n",
       "    <tr>\n",
       "      <th>910</th>\n",
       "      <td>17</td>\n",
       "      <td>Dell</td>\n",
       "      <td>Inspiron 3567</td>\n",
       "      <td>Notebook</td>\n",
       "      <td>15.6</td>\n",
       "      <td>Full HD 1920x1080</td>\n",
       "      <td>Intel Core i7 7500U 2.7GHz</td>\n",
       "      <td>8GB</td>\n",
       "      <td>256GB SSD</td>\n",
       "      <td>AMD Radeon R5 M430</td>\n",
       "      <td>Windows 10</td>\n",
       "      <td>2.2kg</td>\n",
       "      <td>745.00</td>\n",
       "    </tr>\n",
       "    <tr>\n",
       "      <th>911</th>\n",
       "      <td>87</td>\n",
       "      <td>Dell</td>\n",
       "      <td>Inspiron 7577</td>\n",
       "      <td>Gaming</td>\n",
       "      <td>15.6</td>\n",
       "      <td>IPS Panel Full HD 1920x1080</td>\n",
       "      <td>Intel Core i7 7700HQ 2.8GHz</td>\n",
       "      <td>16GB</td>\n",
       "      <td>128GB SSD +  1TB HDD</td>\n",
       "      <td>Nvidia GeForce GTX 1050 Ti</td>\n",
       "      <td>Windows 10</td>\n",
       "      <td>2.65kg</td>\n",
       "      <td>1349.00</td>\n",
       "    </tr>\n",
       "  </tbody>\n",
       "</table>\n",
       "</div>"
      ],
      "text/plain": [
       "     laptop_ID Company                               Product  \\\n",
       "907        837    Acer                         Chromebook 11   \n",
       "908        626    Acer  CB5-132T-C9KK (N3160/4GB/32GB/Chrome   \n",
       "909        225    Dell                         Inspiron 3576   \n",
       "910         17    Dell                         Inspiron 3567   \n",
       "911         87    Dell                         Inspiron 7577   \n",
       "\n",
       "               TypeName Inches                ScreenResolution  \\\n",
       "907             Netbook   11.6              IPS Panel 1366x768   \n",
       "908  2 in 1 Convertible   11.6  IPS Panel Touchscreen 1366x768   \n",
       "909            Notebook   15.6               Full HD 1920x1080   \n",
       "910            Notebook   15.6               Full HD 1920x1080   \n",
       "911              Gaming   15.6     IPS Panel Full HD 1920x1080   \n",
       "\n",
       "                                      Cpu   Ram                Memory  \\\n",
       "907  Intel Celeron Dual Core N3060 1.6GHz   4GB    32GB Flash Storage   \n",
       "908  Intel Celeron Quad Core N3160 1.6GHz   4GB    32GB Flash Storage   \n",
       "909            Intel Core i5 8250U 1.6GHz   8GB             256GB SSD   \n",
       "910            Intel Core i7 7500U 2.7GHz   8GB             256GB SSD   \n",
       "911           Intel Core i7 7700HQ 2.8GHz  16GB  128GB SSD +  1TB HDD   \n",
       "\n",
       "                            Gpu       OpSys  Weight  Price_euros  \n",
       "907       Intel HD Graphics 400   Chrome OS  1.35kg       355.00  \n",
       "908       Intel HD Graphics 400   Chrome OS  1.25kg       379.00  \n",
       "909              AMD Radeon 520       Linux   2.2kg       677.35  \n",
       "910          AMD Radeon R5 M430  Windows 10   2.2kg       745.00  \n",
       "911  Nvidia GeForce GTX 1050 Ti  Windows 10  2.65kg      1349.00  "
      ]
     },
     "execution_count": 5,
     "metadata": {},
     "output_type": "execute_result"
    }
   ],
   "source": [
    "laptop.tail()"
   ]
  },
  {
   "cell_type": "code",
   "execution_count": 6,
   "metadata": {},
   "outputs": [
    {
     "data": {
      "text/html": [
       "<div>\n",
       "<style scoped>\n",
       "    .dataframe tbody tr th:only-of-type {\n",
       "        vertical-align: middle;\n",
       "    }\n",
       "\n",
       "    .dataframe tbody tr th {\n",
       "        vertical-align: top;\n",
       "    }\n",
       "\n",
       "    .dataframe thead th {\n",
       "        text-align: right;\n",
       "    }\n",
       "</style>\n",
       "<table border=\"1\" class=\"dataframe\">\n",
       "  <thead>\n",
       "    <tr style=\"text-align: right;\">\n",
       "      <th></th>\n",
       "      <th>laptop_ID</th>\n",
       "      <th>Price_euros</th>\n",
       "    </tr>\n",
       "  </thead>\n",
       "  <tbody>\n",
       "    <tr>\n",
       "      <th>count</th>\n",
       "      <td>912.000000</td>\n",
       "      <td>912.000000</td>\n",
       "    </tr>\n",
       "    <tr>\n",
       "      <th>mean</th>\n",
       "      <td>663.118421</td>\n",
       "      <td>1111.262533</td>\n",
       "    </tr>\n",
       "    <tr>\n",
       "      <th>std</th>\n",
       "      <td>380.713558</td>\n",
       "      <td>682.109694</td>\n",
       "    </tr>\n",
       "    <tr>\n",
       "      <th>min</th>\n",
       "      <td>1.000000</td>\n",
       "      <td>174.000000</td>\n",
       "    </tr>\n",
       "    <tr>\n",
       "      <th>25%</th>\n",
       "      <td>339.750000</td>\n",
       "      <td>598.742500</td>\n",
       "    </tr>\n",
       "    <tr>\n",
       "      <th>50%</th>\n",
       "      <td>666.500000</td>\n",
       "      <td>977.000000</td>\n",
       "    </tr>\n",
       "    <tr>\n",
       "      <th>75%</th>\n",
       "      <td>985.250000</td>\n",
       "      <td>1472.650000</td>\n",
       "    </tr>\n",
       "    <tr>\n",
       "      <th>max</th>\n",
       "      <td>1320.000000</td>\n",
       "      <td>5499.000000</td>\n",
       "    </tr>\n",
       "  </tbody>\n",
       "</table>\n",
       "</div>"
      ],
      "text/plain": [
       "         laptop_ID  Price_euros\n",
       "count   912.000000   912.000000\n",
       "mean    663.118421  1111.262533\n",
       "std     380.713558   682.109694\n",
       "min       1.000000   174.000000\n",
       "25%     339.750000   598.742500\n",
       "50%     666.500000   977.000000\n",
       "75%     985.250000  1472.650000\n",
       "max    1320.000000  5499.000000"
      ]
     },
     "execution_count": 6,
     "metadata": {},
     "output_type": "execute_result"
    }
   ],
   "source": [
    "laptop.describe()"
   ]
  },
  {
   "cell_type": "code",
   "execution_count": 7,
   "metadata": {},
   "outputs": [
    {
     "data": {
      "text/html": [
       "<div>\n",
       "<style scoped>\n",
       "    .dataframe tbody tr th:only-of-type {\n",
       "        vertical-align: middle;\n",
       "    }\n",
       "\n",
       "    .dataframe tbody tr th {\n",
       "        vertical-align: top;\n",
       "    }\n",
       "\n",
       "    .dataframe thead th {\n",
       "        text-align: right;\n",
       "    }\n",
       "</style>\n",
       "<table border=\"1\" class=\"dataframe\">\n",
       "  <thead>\n",
       "    <tr style=\"text-align: right;\">\n",
       "      <th></th>\n",
       "      <th>laptop_ID</th>\n",
       "      <th>Company</th>\n",
       "      <th>Product</th>\n",
       "      <th>TypeName</th>\n",
       "      <th>Inches</th>\n",
       "      <th>ScreenResolution</th>\n",
       "      <th>Cpu</th>\n",
       "      <th>Ram</th>\n",
       "      <th>Memory</th>\n",
       "      <th>Gpu</th>\n",
       "      <th>OpSys</th>\n",
       "      <th>Weight</th>\n",
       "      <th>Price_euros</th>\n",
       "    </tr>\n",
       "  </thead>\n",
       "  <tbody>\n",
       "    <tr>\n",
       "      <th>0</th>\n",
       "      <td>599</td>\n",
       "      <td>Dell</td>\n",
       "      <td>Inspiron 3179</td>\n",
       "      <td>2 in 1 Convertible</td>\n",
       "      <td>11.6</td>\n",
       "      <td>Touchscreen 1366x768</td>\n",
       "      <td>Intel Core M 7Y30 1.0GHz</td>\n",
       "      <td>4GB</td>\n",
       "      <td>128GB SSD</td>\n",
       "      <td>Intel HD Graphics 615</td>\n",
       "      <td>Windows 10</td>\n",
       "      <td>1.39kg</td>\n",
       "      <td>603.00</td>\n",
       "    </tr>\n",
       "    <tr>\n",
       "      <th>1</th>\n",
       "      <td>92</td>\n",
       "      <td>Asus</td>\n",
       "      <td>FX550IK-DM018T (FX-9830P/8GB/1TB/Radeon</td>\n",
       "      <td>Gaming</td>\n",
       "      <td>15.6</td>\n",
       "      <td>Full HD 1920x1080</td>\n",
       "      <td>AMD FX 9830P 3GHz</td>\n",
       "      <td>8GB</td>\n",
       "      <td>1TB HDD</td>\n",
       "      <td>AMD Radeon RX 560</td>\n",
       "      <td>Windows 10</td>\n",
       "      <td>2.45kg</td>\n",
       "      <td>699.00</td>\n",
       "    </tr>\n",
       "    <tr>\n",
       "      <th>2</th>\n",
       "      <td>744</td>\n",
       "      <td>HP</td>\n",
       "      <td>ZBook 15</td>\n",
       "      <td>Workstation</td>\n",
       "      <td>15.6</td>\n",
       "      <td>Full HD 1920x1080</td>\n",
       "      <td>Intel Core i7 7700HQ 2.8GHz</td>\n",
       "      <td>16GB</td>\n",
       "      <td>256GB SSD</td>\n",
       "      <td>Nvidia Quadro M2200</td>\n",
       "      <td>Windows 10</td>\n",
       "      <td>2.6kg</td>\n",
       "      <td>2419.00</td>\n",
       "    </tr>\n",
       "    <tr>\n",
       "      <th>3</th>\n",
       "      <td>729</td>\n",
       "      <td>HP</td>\n",
       "      <td>Pavilion X360</td>\n",
       "      <td>2 in 1 Convertible</td>\n",
       "      <td>13.3</td>\n",
       "      <td>IPS Panel Touchscreen 1366x768</td>\n",
       "      <td>Intel Core i5 7200U 2.5GHz</td>\n",
       "      <td>8GB</td>\n",
       "      <td>256GB SSD</td>\n",
       "      <td>Intel HD Graphics 620</td>\n",
       "      <td>Windows 10</td>\n",
       "      <td>1.58kg</td>\n",
       "      <td>836.60</td>\n",
       "    </tr>\n",
       "    <tr>\n",
       "      <th>4</th>\n",
       "      <td>957</td>\n",
       "      <td>Toshiba</td>\n",
       "      <td>Tecra A50-C-1ZV</td>\n",
       "      <td>Notebook</td>\n",
       "      <td>15.6</td>\n",
       "      <td>1366x768</td>\n",
       "      <td>Intel Core i5 6200U 2.3GHz</td>\n",
       "      <td>8GB</td>\n",
       "      <td>256GB SSD</td>\n",
       "      <td>Intel HD Graphics 520</td>\n",
       "      <td>Windows 10</td>\n",
       "      <td>2.2kg</td>\n",
       "      <td>1119.00</td>\n",
       "    </tr>\n",
       "    <tr>\n",
       "      <th>...</th>\n",
       "      <td>...</td>\n",
       "      <td>...</td>\n",
       "      <td>...</td>\n",
       "      <td>...</td>\n",
       "      <td>...</td>\n",
       "      <td>...</td>\n",
       "      <td>...</td>\n",
       "      <td>...</td>\n",
       "      <td>...</td>\n",
       "      <td>...</td>\n",
       "      <td>...</td>\n",
       "      <td>...</td>\n",
       "      <td>...</td>\n",
       "    </tr>\n",
       "    <tr>\n",
       "      <th>907</th>\n",
       "      <td>837</td>\n",
       "      <td>Acer</td>\n",
       "      <td>Chromebook 11</td>\n",
       "      <td>Netbook</td>\n",
       "      <td>11.6</td>\n",
       "      <td>IPS Panel 1366x768</td>\n",
       "      <td>Intel Celeron Dual Core N3060 1.6GHz</td>\n",
       "      <td>4GB</td>\n",
       "      <td>32GB Flash Storage</td>\n",
       "      <td>Intel HD Graphics 400</td>\n",
       "      <td>Chrome OS</td>\n",
       "      <td>1.35kg</td>\n",
       "      <td>355.00</td>\n",
       "    </tr>\n",
       "    <tr>\n",
       "      <th>908</th>\n",
       "      <td>626</td>\n",
       "      <td>Acer</td>\n",
       "      <td>CB5-132T-C9KK (N3160/4GB/32GB/Chrome</td>\n",
       "      <td>2 in 1 Convertible</td>\n",
       "      <td>11.6</td>\n",
       "      <td>IPS Panel Touchscreen 1366x768</td>\n",
       "      <td>Intel Celeron Quad Core N3160 1.6GHz</td>\n",
       "      <td>4GB</td>\n",
       "      <td>32GB Flash Storage</td>\n",
       "      <td>Intel HD Graphics 400</td>\n",
       "      <td>Chrome OS</td>\n",
       "      <td>1.25kg</td>\n",
       "      <td>379.00</td>\n",
       "    </tr>\n",
       "    <tr>\n",
       "      <th>909</th>\n",
       "      <td>225</td>\n",
       "      <td>Dell</td>\n",
       "      <td>Inspiron 3576</td>\n",
       "      <td>Notebook</td>\n",
       "      <td>15.6</td>\n",
       "      <td>Full HD 1920x1080</td>\n",
       "      <td>Intel Core i5 8250U 1.6GHz</td>\n",
       "      <td>8GB</td>\n",
       "      <td>256GB SSD</td>\n",
       "      <td>AMD Radeon 520</td>\n",
       "      <td>Linux</td>\n",
       "      <td>2.2kg</td>\n",
       "      <td>677.35</td>\n",
       "    </tr>\n",
       "    <tr>\n",
       "      <th>910</th>\n",
       "      <td>17</td>\n",
       "      <td>Dell</td>\n",
       "      <td>Inspiron 3567</td>\n",
       "      <td>Notebook</td>\n",
       "      <td>15.6</td>\n",
       "      <td>Full HD 1920x1080</td>\n",
       "      <td>Intel Core i7 7500U 2.7GHz</td>\n",
       "      <td>8GB</td>\n",
       "      <td>256GB SSD</td>\n",
       "      <td>AMD Radeon R5 M430</td>\n",
       "      <td>Windows 10</td>\n",
       "      <td>2.2kg</td>\n",
       "      <td>745.00</td>\n",
       "    </tr>\n",
       "    <tr>\n",
       "      <th>911</th>\n",
       "      <td>87</td>\n",
       "      <td>Dell</td>\n",
       "      <td>Inspiron 7577</td>\n",
       "      <td>Gaming</td>\n",
       "      <td>15.6</td>\n",
       "      <td>IPS Panel Full HD 1920x1080</td>\n",
       "      <td>Intel Core i7 7700HQ 2.8GHz</td>\n",
       "      <td>16GB</td>\n",
       "      <td>128GB SSD +  1TB HDD</td>\n",
       "      <td>Nvidia GeForce GTX 1050 Ti</td>\n",
       "      <td>Windows 10</td>\n",
       "      <td>2.65kg</td>\n",
       "      <td>1349.00</td>\n",
       "    </tr>\n",
       "  </tbody>\n",
       "</table>\n",
       "<p>912 rows × 13 columns</p>\n",
       "</div>"
      ],
      "text/plain": [
       "     laptop_ID  Company                                  Product  \\\n",
       "0          599     Dell                            Inspiron 3179   \n",
       "1           92     Asus  FX550IK-DM018T (FX-9830P/8GB/1TB/Radeon   \n",
       "2          744       HP                                 ZBook 15   \n",
       "3          729       HP                            Pavilion X360   \n",
       "4          957  Toshiba                          Tecra A50-C-1ZV   \n",
       "..         ...      ...                                      ...   \n",
       "907        837     Acer                            Chromebook 11   \n",
       "908        626     Acer     CB5-132T-C9KK (N3160/4GB/32GB/Chrome   \n",
       "909        225     Dell                            Inspiron 3576   \n",
       "910         17     Dell                            Inspiron 3567   \n",
       "911         87     Dell                            Inspiron 7577   \n",
       "\n",
       "               TypeName Inches                ScreenResolution  \\\n",
       "0    2 in 1 Convertible   11.6            Touchscreen 1366x768   \n",
       "1                Gaming   15.6               Full HD 1920x1080   \n",
       "2           Workstation   15.6               Full HD 1920x1080   \n",
       "3    2 in 1 Convertible   13.3  IPS Panel Touchscreen 1366x768   \n",
       "4              Notebook   15.6                        1366x768   \n",
       "..                  ...    ...                             ...   \n",
       "907             Netbook   11.6              IPS Panel 1366x768   \n",
       "908  2 in 1 Convertible   11.6  IPS Panel Touchscreen 1366x768   \n",
       "909            Notebook   15.6               Full HD 1920x1080   \n",
       "910            Notebook   15.6               Full HD 1920x1080   \n",
       "911              Gaming   15.6     IPS Panel Full HD 1920x1080   \n",
       "\n",
       "                                      Cpu   Ram                Memory  \\\n",
       "0                Intel Core M 7Y30 1.0GHz   4GB             128GB SSD   \n",
       "1                       AMD FX 9830P 3GHz   8GB               1TB HDD   \n",
       "2             Intel Core i7 7700HQ 2.8GHz  16GB             256GB SSD   \n",
       "3              Intel Core i5 7200U 2.5GHz   8GB             256GB SSD   \n",
       "4              Intel Core i5 6200U 2.3GHz   8GB             256GB SSD   \n",
       "..                                    ...   ...                   ...   \n",
       "907  Intel Celeron Dual Core N3060 1.6GHz   4GB    32GB Flash Storage   \n",
       "908  Intel Celeron Quad Core N3160 1.6GHz   4GB    32GB Flash Storage   \n",
       "909            Intel Core i5 8250U 1.6GHz   8GB             256GB SSD   \n",
       "910            Intel Core i7 7500U 2.7GHz   8GB             256GB SSD   \n",
       "911           Intel Core i7 7700HQ 2.8GHz  16GB  128GB SSD +  1TB HDD   \n",
       "\n",
       "                            Gpu       OpSys  Weight  Price_euros  \n",
       "0         Intel HD Graphics 615  Windows 10  1.39kg       603.00  \n",
       "1             AMD Radeon RX 560  Windows 10  2.45kg       699.00  \n",
       "2           Nvidia Quadro M2200  Windows 10   2.6kg      2419.00  \n",
       "3         Intel HD Graphics 620  Windows 10  1.58kg       836.60  \n",
       "4         Intel HD Graphics 520  Windows 10   2.2kg      1119.00  \n",
       "..                          ...         ...     ...          ...  \n",
       "907       Intel HD Graphics 400   Chrome OS  1.35kg       355.00  \n",
       "908       Intel HD Graphics 400   Chrome OS  1.25kg       379.00  \n",
       "909              AMD Radeon 520       Linux   2.2kg       677.35  \n",
       "910          AMD Radeon R5 M430  Windows 10   2.2kg       745.00  \n",
       "911  Nvidia GeForce GTX 1050 Ti  Windows 10  2.65kg      1349.00  \n",
       "\n",
       "[912 rows x 13 columns]"
      ]
     },
     "execution_count": 7,
     "metadata": {},
     "output_type": "execute_result"
    }
   ],
   "source": [
    "laptop"
   ]
  },
  {
   "cell_type": "markdown",
   "metadata": {},
   "source": [
    "### Filtrado por tipo de PC´S "
   ]
  },
  {
   "cell_type": "code",
   "execution_count": 8,
   "metadata": {},
   "outputs": [
    {
     "name": "stdout",
     "output_type": "stream",
     "text": [
      "TypeName\n",
      "Notebook              498\n",
      "Gaming                149\n",
      "Ultrabook             132\n",
      "2 in 1 Convertible     87\n",
      "Workstation            24\n",
      "Netbook                22\n",
      "Name: count, dtype: int64\n"
     ]
    }
   ],
   "source": [
    "conteo_tipos = laptop['TypeName'].value_counts()\n",
    "print (conteo_tipos)"
   ]
  },
  {
   "cell_type": "code",
   "execution_count": 11,
   "metadata": {},
   "outputs": [],
   "source": [
    "TypeName = laptop['TypeName'].unique()\n",
    "Marca = laptop['Company'].unique()"
   ]
  },
  {
   "cell_type": "markdown",
   "metadata": {},
   "source": [
    "### Filtrado por Marcas"
   ]
  },
  {
   "cell_type": "code",
   "execution_count": 12,
   "metadata": {},
   "outputs": [],
   "source": [
    "Marca = laptop['Company'].unique()"
   ]
  },
  {
   "cell_type": "code",
   "execution_count": 13,
   "metadata": {},
   "outputs": [
    {
     "name": "stdout",
     "output_type": "stream",
     "text": [
      "Company\n",
      "Dell         214\n",
      "Lenovo       206\n",
      "HP           184\n",
      "Asus         105\n",
      "Acer          72\n",
      "MSI           44\n",
      "Toshiba       35\n",
      "Apple         13\n",
      "Samsung        9\n",
      "Razer          5\n",
      "Mediacom       5\n",
      "Google         3\n",
      "LG             3\n",
      "Microsoft      3\n",
      "Fujitsu        3\n",
      "Xiaomi         2\n",
      "Huawei         2\n",
      "Chuwi          2\n",
      "Vero           2\n",
      "Name: count, dtype: int64\n"
     ]
    }
   ],
   "source": [
    "conteo_marcas = laptop['Company'].value_counts()\n",
    "print (conteo_marcas)"
   ]
  },
  {
   "cell_type": "markdown",
   "metadata": {},
   "source": []
  },
  {
   "cell_type": "markdown",
   "metadata": {},
   "source": [
    "### Filtrado por procesadores"
   ]
  },
  {
   "cell_type": "code",
   "execution_count": 14,
   "metadata": {},
   "outputs": [
    {
     "data": {
      "text/plain": [
       "Cpu\n",
       "True     866\n",
       "False     46\n",
       "Name: count, dtype: int64"
      ]
     },
     "execution_count": 14,
     "metadata": {},
     "output_type": "execute_result"
    }
   ],
   "source": [
    "laptop['Cpu'].str.contains('Intel').value_counts()\n",
    "#laptop['Cpu'].str.contains('AMD').value_counts()"
   ]
  },
  {
   "cell_type": "markdown",
   "metadata": {},
   "source": [
    "### Filtrado por memoria Ram"
   ]
  },
  {
   "cell_type": "code",
   "execution_count": 15,
   "metadata": {},
   "outputs": [],
   "source": [
    "MemoriRam = laptop['Ram'].unique()\n",
    "Ram = laptop['Ram'].unique()"
   ]
  },
  {
   "cell_type": "code",
   "execution_count": 16,
   "metadata": {},
   "outputs": [
    {
     "data": {
      "text/plain": [
       "array(['4GB', '8GB', '16GB', '6GB', '12GB', '2GB', '32GB', '24GB', '64GB'],\n",
       "      dtype=object)"
      ]
     },
     "execution_count": 16,
     "metadata": {},
     "output_type": "execute_result"
    }
   ],
   "source": [
    "Ram"
   ]
  },
  {
   "cell_type": "markdown",
   "metadata": {},
   "source": [
    "### Filtrado por sistema operativo "
   ]
  },
  {
   "cell_type": "code",
   "execution_count": 17,
   "metadata": {},
   "outputs": [
    {
     "name": "stdout",
     "output_type": "stream",
     "text": [
      "OpSys\n",
      "Windows 10      760\n",
      "Linux            43\n",
      "No OS            39\n",
      "Windows 7        31\n",
      "Chrome OS        20\n",
      "Mac OS X          7\n",
      "macOS             6\n",
      "Windows 10 S      5\n",
      "Android           1\n",
      "Name: count, dtype: int64\n"
     ]
    }
   ],
   "source": [
    "sistemas_op = laptop['OpSys'].value_counts()\n",
    "print (sistemas_op)"
   ]
  },
  {
   "cell_type": "code",
   "execution_count": 40,
   "metadata": {},
   "outputs": [],
   "source": [
    "#pulgadas = laptop['Inches'].unique()\n",
    "pulgadas = laptop['Inches'].value_counts()"
   ]
  },
  {
   "cell_type": "code",
   "execution_count": 41,
   "metadata": {},
   "outputs": [
    {
     "name": "stdout",
     "output_type": "stream",
     "text": [
      "Inches\n",
      "15.6    461\n",
      "14.0    131\n",
      "17.3    118\n",
      "13.3    117\n",
      "12.5     28\n",
      "11.6     25\n",
      "12.3      5\n",
      "13.9      5\n",
      "12.0      5\n",
      "15.0      4\n",
      "10.1      3\n",
      "13.5      3\n",
      "13.0      2\n",
      "15.4      1\n",
      "18.4      1\n",
      "11.3      1\n",
      "14.1      1\n",
      "17.0      1\n",
      "Name: count, dtype: int64\n"
     ]
    }
   ],
   "source": [
    "print(pulgadas)"
   ]
  },
  {
   "cell_type": "code",
   "execution_count": null,
   "metadata": {},
   "outputs": [],
   "source": []
  }
 ],
 "metadata": {
  "kernelspec": {
   "display_name": "bootcamp-ds-DW8nmJ3b-py3.11",
   "language": "python",
   "name": "python3"
  },
  "language_info": {
   "codemirror_mode": {
    "name": "ipython",
    "version": 3
   },
   "file_extension": ".py",
   "mimetype": "text/x-python",
   "name": "python",
   "nbconvert_exporter": "python",
   "pygments_lexer": "ipython3",
   "version": "3.11.9"
  }
 },
 "nbformat": 4,
 "nbformat_minor": 2
}
