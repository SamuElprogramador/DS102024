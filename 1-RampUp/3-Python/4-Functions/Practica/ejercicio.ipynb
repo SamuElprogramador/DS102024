{
  "cells": [
    {
      "cell_type": "markdown",
      "metadata": {
        "id": "WxAL6VsU2Wuo"
      },
      "source": [
        "# Ejercicios III"
      ]
    },
    {
      "cell_type": "markdown",
      "metadata": {
        "id": "y4fgNZK42Wuq"
      },
      "source": [
        "## Factoriales\n",
        "\n",
        "El factorial de un número natural es la multiplicación de todos los números anteriores hasta llegar a 1. Por ejemplo el factorial de 5 es igual a $5* 4* 3* 2* 1$, es decir, 120.\n",
        "\n",
        "Igual que con la serie Fibonacci, hay dos formas de resolver este problema: una con un loop for y la otra utilizando funciones recursivas.  Recuerden que cada función recursiva tiene que tener una condición terminal.\n",
        "En el caso de Fibonacci, la condición terminal es que fibo(1) = 1. \n",
        "\n",
        "En el caso de factorial, la condición terminal será factorial(1) = 1 \n",
        "\n",
        "Escriban ahora las dos versiones posibles de la función factorial(x). "
      ]
    },
    {
      "cell_type": "code",
      "execution_count": 2,
      "metadata": {},
      "outputs": [],
      "source": [
        "import math"
      ]
    },
    {
      "cell_type": "code",
      "execution_count": 21,
      "metadata": {
        "id": "AI0nQ8vL2Wux"
      },
      "outputs": [
        {
          "name": "stdout",
          "output_type": "stream",
          "text": [
            "El factorial de 5 es 120\n"
          ]
        }
      ],
      "source": [
        "# Solución recursiva. \n",
        "def factorial_recursiva(n):\n",
        "  if n == 0:\n",
        "    return 1\n",
        "  else:\n",
        "    return n * factorial_recursiva(n - 1)\n",
        "\n",
        "numero = 5\n",
        "resultado = factorial_recursiva(numero)\n",
        "print(f\"El factorial de {numero} es {resultado}\") "
      ]
    },
    {
      "cell_type": "code",
      "execution_count": 4,
      "metadata": {
        "id": "WsRV3pZU2Wu3"
      },
      "outputs": [
        {
          "name": "stdout",
          "output_type": "stream",
          "text": [
            "El factorial de 5 es 120\n"
          ]
        }
      ],
      "source": [
        "# Solución iterativa. \n",
        "def factorial_iterativo_for(n):\n",
        "  if n == 0:\n",
        "    return 1\n",
        "  else:\n",
        "    resultado = 1\n",
        "    for i in range(1, n + 1):\n",
        "      resultado *= i\n",
        "    return resultado\n",
        "\n",
        "numero = 5\n",
        "resultado = factorial_iterativo_for(numero)\n",
        "print(f\"El factorial de {numero} es {resultado}\")\n"
      ]
    },
    {
      "cell_type": "markdown",
      "metadata": {
        "id": "_RnUbcaR2Wu4"
      },
      "source": [
        "Ahora construyan un módulo que se llame \"operaciones\" con cualquiera de las dos versiones de la función y luego invoquen a la función factorial del módulo."
      ]
    },
    {
      "cell_type": "code",
      "execution_count": null,
      "metadata": {
        "id": "amURxY7Q2Wu5"
      },
      "outputs": [],
      "source": [
        "# Escriban el archivo operaciones.py\n"
      ]
    },
    {
      "cell_type": "code",
      "execution_count": 22,
      "metadata": {
        "id": "MjA4BPw92Wu6"
      },
      "outputs": [],
      "source": [
        "# Importen operaciones\n",
        "import operaciones"
      ]
    },
    {
      "cell_type": "code",
      "execution_count": 23,
      "metadata": {},
      "outputs": [
        {
          "data": {
            "text/plain": [
              "<module 'operaciones' from 'c:\\\\Users\\\\sr_tu\\\\Desktop\\\\bootcamp\\\\DS102024\\\\1-RampUp\\\\3-Python\\\\4-Functions\\\\Practica\\\\operaciones.py'>"
            ]
          },
          "execution_count": 23,
          "metadata": {},
          "output_type": "execute_result"
        }
      ],
      "source": [
        "operaciones"
      ]
    },
    {
      "cell_type": "code",
      "execution_count": 25,
      "metadata": {
        "id": "ltadgg2C2Wu9"
      },
      "outputs": [
        {
          "ename": "AttributeError",
          "evalue": "module 'operaciones' has no attribute 'factorial'",
          "output_type": "error",
          "traceback": [
            "\u001b[1;31m---------------------------------------------------------------------------\u001b[0m",
            "\u001b[1;31mAttributeError\u001b[0m                            Traceback (most recent call last)",
            "Cell \u001b[1;32mIn[25], line 2\u001b[0m\n\u001b[0;32m      1\u001b[0m \u001b[38;5;66;03m# Invoquen con cualquier valor a operaciones.factorial()\u001b[39;00m\n\u001b[1;32m----> 2\u001b[0m resultado \u001b[38;5;241m=\u001b[39m \u001b[43moperaciones\u001b[49m\u001b[38;5;241;43m.\u001b[39;49m\u001b[43mfactorial\u001b[49m(\u001b[38;5;241m10\u001b[39m)\n\u001b[0;32m      3\u001b[0m \u001b[38;5;28mprint\u001b[39m(\u001b[38;5;124mf\u001b[39m\u001b[38;5;124m\"\u001b[39m\u001b[38;5;124mEl factorial de 10 es: \u001b[39m\u001b[38;5;132;01m{\u001b[39;00mresultado\u001b[38;5;132;01m}\u001b[39;00m\u001b[38;5;124m\"\u001b[39m)\n",
            "\u001b[1;31mAttributeError\u001b[0m: module 'operaciones' has no attribute 'factorial'"
          ]
        }
      ],
      "source": [
        "# Invoquen con cualquier valor a operaciones.factorial()\n",
        "resultado = operaciones.factorial(10)\n",
        "print(f\"El factorial de 10 es: {resultado}\")"
      ]
    },
    {
      "cell_type": "markdown",
      "metadata": {
        "id": "uyHeMHAwJ1Ro"
      },
      "source": [
        "Módulos de búsqueda. Ahora crea un paquete (carpeta con varios módulos) donde haya al menos dos algorítmos de búsqueda vistos que funcionen sobre listas de número. \n",
        "Extra: que la busqueda permita diccionarios"
      ]
    },
    {
      "cell_type": "code",
      "execution_count": null,
      "metadata": {
        "id": "XRBF8JHLKFvS"
      },
      "outputs": [],
      "source": []
    }
  ],
  "metadata": {
    "colab": {
      "name": "ejercicio.ipynb",
      "provenance": []
    },
    "kernelspec": {
      "display_name": "bootcamp-ds-DW8nmJ3b-py3.11",
      "language": "python",
      "name": "python3"
    },
    "language_info": {
      "codemirror_mode": {
        "name": "ipython",
        "version": 3
      },
      "file_extension": ".py",
      "mimetype": "text/x-python",
      "name": "python",
      "nbconvert_exporter": "python",
      "pygments_lexer": "ipython3",
      "version": "3.11.9"
    }
  },
  "nbformat": 4,
  "nbformat_minor": 0
}
