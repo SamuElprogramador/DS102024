{
 "cells": [
  {
   "cell_type": "markdown",
   "metadata": {},
   "source": [
    "![imagen](./img/ejercicios.png)"
   ]
  },
  {
   "cell_type": "markdown",
   "metadata": {},
   "source": [
    "# Ejercicios funciones\n",
    "## Ejercicio 1\n",
    "Escribe una función que convierta números del 1 al 7 en nombres de los dias de la semana. La función constará de un único argumento numérico y una salida de tipo string"
   ]
  },
  {
   "cell_type": "code",
   "execution_count": 1,
   "metadata": {},
   "outputs": [],
   "source": [
    "def dia_de_la_semana(numero):\n",
    "\n",
    "    dias = {\n",
    "        1: \"Lunes\",\n",
    "        2: \"Martes\",\n",
    "        3: \"Miércoles\",\n",
    "        4: \"Jueves\",\n",
    "        5: \"Viernes\",\n",
    "        6: \"Sábado\",\n",
    "        7: \"Domingo\"\n",
    "    }\n",
    "\n",
    "    if 1 <= numero <= 7:\n",
    "        return dias[numero]\n",
    "    else:\n",
    "        return \"Número inválido. Debe ser un número del 1 al 7.\""
   ]
  },
  {
   "cell_type": "code",
   "execution_count": 5,
   "metadata": {},
   "outputs": [
    {
     "name": "stdout",
     "output_type": "stream",
     "text": [
      "Lunes\n"
     ]
    }
   ],
   "source": [
    "print(dia_de_la_semana(1))"
   ]
  },
  {
   "cell_type": "markdown",
   "metadata": {},
   "source": [
    "## Ejercicio 2\n",
    "En el ejercicio 8 de bucles, creábamos una pirámide invertida, cuyo número de pisos venía determinado por un input del usuario. Crea una función que replique el comportamiento de la pirámide, y utiliza un único parámetro de entrada de la función para determinar el número de filas de la pirámide, es decir, elimina la sentencia input."
   ]
  },
  {
   "cell_type": "code",
   "execution_count": 7,
   "metadata": {},
   "outputs": [
    {
     "name": "stdout",
     "output_type": "stream",
     "text": [
      "*********\n",
      " *******\n",
      "  *****\n",
      "   ***\n",
      "    *\n",
      "*******************\n",
      " *****************\n",
      "  ***************\n",
      "   *************\n",
      "    ***********\n",
      "     *********\n",
      "      *******\n",
      "       *****\n",
      "        ***\n",
      "         *\n"
     ]
    }
   ],
   "source": [
    "def piramide(filas):\n",
    "\n",
    "    for i in range(filas, 0, -1):\n",
    "        print(\" \" * (filas - i) + \"*\" * (2 * i - 1))\n",
    "\n",
    "piramide(5)\n",
    "piramide(10)"
   ]
  },
  {
   "cell_type": "code",
   "execution_count": null,
   "metadata": {},
   "outputs": [],
   "source": []
  },
  {
   "cell_type": "markdown",
   "metadata": {},
   "source": [
    "## Ejercicio 3\n",
    "Escibe una función que compare dos números. La función tiene dos argumentos y hay tres salidas posibles: que sean iguales, que el primero se  mayor que el segundo, o que el segundo sea mayor que el primero"
   ]
  },
  {
   "cell_type": "code",
   "execution_count": 9,
   "metadata": {},
   "outputs": [
    {
     "name": "stdout",
     "output_type": "stream",
     "text": [
      "Los números son iguales\n",
      "El primer número es mayor que el segundo\n",
      "El segundo número es mayor que el primero\n",
      "El segundo número es mayor que el primero\n"
     ]
    }
   ],
   "source": [
    "def comparar_numeros(num1, num2):\n",
    "  \n",
    "  if num1 == num2:\n",
    "    return \"Los números son iguales\"\n",
    "  elif num1 > num2:\n",
    "    return \"El primer número es mayor que el segundo\"\n",
    "  else:\n",
    "    return \"El segundo número es mayor que el primero\"\n",
    "\n",
    "print(comparar_numeros(5, 5)) \n",
    "print(comparar_numeros(10, 3)) \n",
    "print(comparar_numeros(2, 8))  \n",
    "\n",
    "a=3\n",
    "b=7 \n",
    "print(comparar_numeros(a,b)) "
   ]
  },
  {
   "cell_type": "markdown",
   "metadata": {},
   "source": [
    "## Ejercicio 4\n",
    "Escribe una función que sea un contador de letras. En el primer argumento tienes que introducir un texto, y el segundo que sea la letra a contar. La función tiene que devolver un entero con el número de veces que aparece esa letra, tanto mayuscula, como minúscula"
   ]
  },
  {
   "cell_type": "code",
   "execution_count": 10,
   "metadata": {},
   "outputs": [
    {
     "name": "stdout",
     "output_type": "stream",
     "text": [
      "7\n"
     ]
    }
   ],
   "source": [
    "def contar_letra(texto: str, letra: str) -> int:\n",
    "\n",
    "    return texto.lower().count(letra.lower())\n",
    "\n",
    "texto = \"Aqui estoy haciendo ejercicios de funciones de python\"\n",
    "letra = \"e\"\n",
    "print(contar_letra(texto, letra))  \n"
   ]
  },
  {
   "cell_type": "markdown",
   "metadata": {},
   "source": [
    "## Ejercicio 5\n",
    "Escribe una función que tenga un único argumento, un string. La salida de la función tiene que ser un diccionario con el conteo de todas las letras de ese string."
   ]
  },
  {
   "cell_type": "code",
   "execution_count": 17,
   "metadata": {},
   "outputs": [
    {
     "name": "stdout",
     "output_type": "stream",
     "text": [
      "{'h': 1, 'a': 1, 'c': 3, 'i': 3, 'e': 4, 'n': 1, 'd': 1, 'o': 2, 'l': 1, 'j': 1, 'r': 1}\n"
     ]
    }
   ],
   "source": [
    "def contar_todas_letras(texto: str) -> dict:\n",
    "    \n",
    "    texto = texto.lower()\n",
    "    conteo = {}\n",
    "\n",
    "    for letra in texto:\n",
    "        if letra.isalpha():\n",
    "            conteo[letra] = conteo.get(letra, 0) + 1\n",
    "\n",
    "    return conteo\n",
    "\n",
    "texto = \"haciendo el ejercicio 5\"\n",
    "print(contar_todas_letras(texto))\n"
   ]
  },
  {
   "cell_type": "markdown",
   "metadata": {},
   "source": [
    "## Ejercicio 6\n",
    "Escribir una función que añada o elimine elementos en una lista. La función necesita los siguientes argumentos:\n",
    "* lista: la lista donde se añadirán o eliminarán los elementos\n",
    "* comando: \"add\" o \"remove\"\n",
    "* elemento: Por defecto es None."
   ]
  },
  {
   "cell_type": "code",
   "execution_count": 18,
   "metadata": {},
   "outputs": [
    {
     "name": "stdout",
     "output_type": "stream",
     "text": [
      "[1, 2, 3, 4]\n",
      "[1, 3, 4]\n",
      "[1, 3, 4]\n"
     ]
    }
   ],
   "source": [
    "def lista_ejecicio_6(lista: list, comando: str, elemento=None) -> list:\n",
    "\n",
    "    if comando == \"add\" and elemento is not None:\n",
    "        lista.append(elemento)\n",
    "    elif comando == \"remove\" and elemento in lista:\n",
    "        lista.remove(elemento)\n",
    "    return lista\n",
    "\n",
    "\n",
    "mi_lista = [1, 2, 3]\n",
    "print(lista_ejecicio_6(mi_lista, \"add\", 4))\n",
    "print(lista_ejecicio_6(mi_lista, \"remove\", 2)) \n",
    "print(lista_ejecicio_6(mi_lista, \"remove\", 10))\n"
   ]
  },
  {
   "cell_type": "markdown",
   "metadata": {},
   "source": [
    "## Ejercicio 7\n",
    "crea una función que reciba un número arbitrario de palabras, y devuelva una frase completa, separando las palabras con espacios."
   ]
  },
  {
   "cell_type": "code",
   "execution_count": 19,
   "metadata": {},
   "outputs": [
    {
     "name": "stdout",
     "output_type": "stream",
     "text": [
      "ahora estoy haciendo el ejercicio 7\n"
     ]
    }
   ],
   "source": [
    "def creacion_frases(*palabras) -> str:\n",
    "    \n",
    "    return \" \".join(palabras)\n",
    "\n",
    "print(creacion_frases(\"ahora\", \"estoy\", \"haciendo\", \"el\", \"ejercicio\", \"7\"))  \n"
   ]
  },
  {
   "cell_type": "markdown",
   "metadata": {},
   "source": [
    "## Ejercicio 8\n",
    "Escribe un programa que obtenga el enésimo número de la [serie de Fibonacci](https://es.wikipedia.org/wiki/Sucesi%C3%B3n_de_Fibonacci). Tienes que crear una función recursiva con un único argumento.\n",
    "\n",
    "```Python\n",
    "fibonacci(2) = 1\n",
    "fibonacci(4) = 3\n",
    "fibonacci(5) = 5\n",
    "fibonacci(8) = 21\n",
    "```"
   ]
  },
  {
   "cell_type": "code",
   "execution_count": 20,
   "metadata": {},
   "outputs": [
    {
     "name": "stdout",
     "output_type": "stream",
     "text": [
      "1\n",
      "3\n",
      "5\n",
      "21\n"
     ]
    }
   ],
   "source": [
    "def fibonacci(n: int) -> int:\n",
    "   \n",
    "    if n <= 0:\n",
    "        raise ValueError(\"El número debe ser mayor o igual a 1.\")\n",
    "    if n == 1 or n == 2:\n",
    "        return 1\n",
    "    return fibonacci(n - 1) + fibonacci(n - 2)\n",
    "\n",
    "print(fibonacci(2))\n",
    "print(fibonacci(4)) \n",
    "print(fibonacci(5)) \n",
    "print(fibonacci(8))  \n"
   ]
  },
  {
   "cell_type": "markdown",
   "metadata": {},
   "source": [
    "## Ejercicio 9\n",
    "Define en una única celda las siguientes funciones:\n",
    "* Función que calcule el área de un cuadrado\n",
    "* Función que calcule el area de un triángulo\n",
    "* Función que calcule el área de un círculo\n",
    "\n",
    "En otra celda, calcular el area de:\n",
    "* Dos círculos de radio 10 + un triángulo de base 3 y altura 7\n",
    "* Un cuadrado de lado = 10 + 3 círculos (uno de radio = 4 y los otros dos de radio = 6) + 5 triángulos de base = 2 + altura = 4"
   ]
  },
  {
   "cell_type": "code",
   "execution_count": 21,
   "metadata": {},
   "outputs": [
    {
     "name": "stdout",
     "output_type": "stream",
     "text": [
      "Área combinada 1: 638.8185307179587\n",
      "Área combinada 2: 396.46015351590177\n"
     ]
    }
   ],
   "source": [
    "import math\n",
    "\n",
    "def area_cuadrado(lado):\n",
    "\n",
    "  return lado * lado\n",
    "\n",
    "def area_triangulo(base, altura):\n",
    "  \n",
    "  return (base * altura) / 2\n",
    "\n",
    "def area_circulo(radio):\n",
    "\n",
    "  return math.pi * radio * radio\n",
    "\n",
    "\n",
    "area_combinada1 = (2 * area_circulo(10)) + area_triangulo(3, 7)\n",
    "print(f\"Área combinada 1: {area_combinada1}\")\n",
    "\n",
    "area_combinada2 = area_cuadrado(10) + area_circulo(4) + (2 * area_circulo(6)) + (5 * area_triangulo(2, 4))\n",
    "print(f\"Área combinada 2: {area_combinada2}\")"
   ]
  }
 ],
 "metadata": {
  "kernelspec": {
   "display_name": "bootcamp-ds-DW8nmJ3b-py3.11",
   "language": "python",
   "name": "python3"
  },
  "language_info": {
   "codemirror_mode": {
    "name": "ipython",
    "version": 3
   },
   "file_extension": ".py",
   "mimetype": "text/x-python",
   "name": "python",
   "nbconvert_exporter": "python",
   "pygments_lexer": "ipython3",
   "version": "3.11.9"
  }
 },
 "nbformat": 4,
 "nbformat_minor": 4
}
