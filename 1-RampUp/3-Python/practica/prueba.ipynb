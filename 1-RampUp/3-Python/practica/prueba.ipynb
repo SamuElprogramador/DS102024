{
 "cells": [
  {
   "cell_type": "markdown",
   "metadata": {},
   "source": [
    "un programa que pregunte al usuario su edad y muestre en pantalla si es mayor de edad\n",
    "\n",
    "un programa que pida un numero entero y muestre si es par o impar\n"
   ]
  },
  {
   "cell_type": "markdown",
   "metadata": {},
   "source": [
    "3\n",
    "*\n",
    "**\n",
    "***\n",
    "****\n",
    "*****"
   ]
  },
  {
   "cell_type": "markdown",
   "metadata": {},
   "source": [
    "4 un programa que pida una palabra y luego muestre una a una las letras empezando por la primera\n",
    "\n",
    "5 un programa que almacene el abecedario en una lista, elimine de la lista las letras  que ocupen posiciones multiplos de de 3 y muestre por pantalla la lista resultante.\n",
    "\n",
    "escribir un programa que guarde en un diccionario los precios de las frutas de la tabla, pregunte al usuario por una fruta, un numero de kilos y muestre por pantalla el precio de ese nuemero de kilos de fruta. si la fruta no esta en el diccionario de mostrar un mensaje informando de ello\n",
    "\n",
    "7 escribir una funcion que reciba una muestra de numeros en una lista y devuelva su media y mediana\n",
    "\n",
    "8 crear un programa que sin utilizar if else si le pasas la XX te devuelve el pais . ejemplo ES-> España us:estados unidos"
   ]
  },
  {
   "cell_type": "code",
   "execution_count": 1,
   "metadata": {},
   "outputs": [
    {
     "name": "stdout",
     "output_type": "stream",
     "text": [
      "eres menor de edad\n"
     ]
    }
   ],
   "source": [
    "edad= 15\n",
    "if edad >= 18:\n",
    "    print(\"mayor de edad\")\n",
    "else:\n",
    "    print(\"eres menor de edad\")\n",
    "\n",
    "\n"
   ]
  },
  {
   "cell_type": "code",
   "execution_count": 2,
   "metadata": {},
   "outputs": [
    {
     "ename": "SyntaxError",
     "evalue": "expected ':' (1739020705.py, line 1)",
     "output_type": "error",
     "traceback": [
      "\u001b[1;36m  Cell \u001b[1;32mIn[2], line 1\u001b[1;36m\u001b[0m\n\u001b[1;33m    def par_impar(numero:int)\u001b[0m\n\u001b[1;37m                             ^\u001b[0m\n\u001b[1;31mSyntaxError\u001b[0m\u001b[1;31m:\u001b[0m expected ':'\n"
     ]
    }
   ],
   "source": [
    "def par_impar(numero:int):\n",
    "    if numero % 2==0:\n",
    "        print(\"el nuemro es par\")\n",
    "    else\n",
    "        print(\"el numero es impar\")\n",
    "\n",
    "par_impar(-2)\n"
   ]
  },
  {
   "cell_type": "code",
   "execution_count": 7,
   "metadata": {},
   "outputs": [
    {
     "name": "stdout",
     "output_type": "stream",
     "text": [
      "asac"
     ]
    }
   ],
   "source": [
    "palabra= 'casa'\n",
    "for letra in reversed(palabra):\n",
    "    print(letra,end='')"
   ]
  },
  {
   "cell_type": "code",
   "execution_count": 6,
   "metadata": {},
   "outputs": [
    {
     "name": "stdout",
     "output_type": "stream",
     "text": [
      "['b', 'c', 'e', 'f', 'h', 'i', 'k', 'l', 'n', 'o', 'q', 'r', 't', 'u', 'w', 'x', 'z']\n"
     ]
    }
   ],
   "source": [
    "import string\n",
    "\n",
    "abc = string .ascii_lowercase\n",
    "\n",
    "lista=[]\n",
    "\n",
    "for i in range(len(abc)):\n",
    "    if i % 3 == 0:\n",
    "        continue\n",
    "    else:\n",
    "        lista.append(abc[i])\n",
    "print(lista)\n"
   ]
  },
  {
   "cell_type": "code",
   "execution_count": 24,
   "metadata": {},
   "outputs": [
    {
     "name": "stdout",
     "output_type": "stream",
     "text": [
      "10.0 esto en dolares es 10.8 $\n"
     ]
    }
   ],
   "source": [
    "euro= float(input(\"inserta un euros:\"))\n",
    "resultado = euro *1.08\n",
    "print(euro, \"esto en dolares es\", resultado ,\"$\")\n",
    "#\"\"\"\n",
    "#he hecho mi propio conversor de moneda\n",
    "\n",
    "#\"\"\"\n"
   ]
  },
  {
   "cell_type": "code",
   "execution_count": 26,
   "metadata": {},
   "outputs": [
    {
     "name": "stdout",
     "output_type": "stream",
     "text": [
      "abcabcabcabcabcabcabcabcabcabc\n"
     ]
    }
   ],
   "source": [
    "cadena=\"abc\"*10\n",
    "print (cadena)"
   ]
  },
  {
   "cell_type": "code",
   "execution_count": 106,
   "metadata": {},
   "outputs": [
    {
     "name": "stdout",
     "output_type": "stream",
     "text": [
      "\"\n",
      "s\n",
      "a\n",
      "m\n",
      "u\n",
      "e\n",
      "l\n",
      "===\n",
      "l\n",
      "e\n",
      "u\n",
      "m\n",
      "a\n",
      "s\n",
      "\"\n",
      "samu\n"
     ]
    }
   ],
   "source": [
    "nombre= (\"\\\"samuel\\\"\")\n",
    "print(nombre[0])\n",
    "print(nombre[1])\n",
    "print(nombre[2])\n",
    "print(nombre[3])\n",
    "print(nombre[4])\n",
    "print(nombre[5])\n",
    "print(nombre[6])\n",
    "print(\"===\")\n",
    "print(nombre[6])\n",
    "print(nombre[5])\n",
    "print(nombre[4])\n",
    "print(nombre[3])\n",
    "print(nombre[2])\n",
    "print(nombre[1])\n",
    "print(nombre[0])\n",
    "print(nombre[1:5])\n"
   ]
  },
  {
   "cell_type": "code",
   "execution_count": 41,
   "metadata": {},
   "outputs": [
    {
     "name": "stdout",
     "output_type": "stream",
     "text": [
      "True\n",
      "True\n"
     ]
    }
   ],
   "source": [
    "print(\"sa\" in nombre)\n",
    "print(\"s\" in nombre)"
   ]
  },
  {
   "cell_type": "code",
   "execution_count": 59,
   "metadata": {},
   "outputs": [
    {
     "name": "stdout",
     "output_type": "stream",
     "text": [
      "<class 'str'>\n"
     ]
    }
   ],
   "source": [
    "print(type(nombre))"
   ]
  },
  {
   "cell_type": "code",
   "execution_count": 103,
   "metadata": {},
   "outputs": [
    {
     "name": "stdout",
     "output_type": "stream",
     "text": [
      "\"SAMUEL\"\n"
     ]
    }
   ],
   "source": [
    "nombre= nombre.upper()\n",
    "nombre=nombre.capitalize()\n",
    "nombre=nombre.swapcase()\n",
    "print(nombre)"
   ]
  },
  {
   "cell_type": "code",
   "execution_count": 77,
   "metadata": {},
   "outputs": [
    {
     "name": "stdout",
     "output_type": "stream",
     "text": [
      "Paola\n"
     ]
    }
   ],
   "source": [
    "lista_nombres=\"samuel lorena Paola\"\n",
    "lista_nombres=lista_nombres.split()\n",
    "#print(lista_nombres)\n",
    "for ele in lista_nombres:()\n",
    "print(ele)"
   ]
  },
  {
   "cell_type": "code",
   "execution_count": 93,
   "metadata": {},
   "outputs": [
    {
     "name": "stdout",
     "output_type": "stream",
     "text": [
      "<class 'int'>\n",
      "13101983.00000\n"
     ]
    }
   ],
   "source": [
    "numero1= 13101983\n",
    "print(type(numero1))\n",
    "print(\"{0:.5f}\".format(numero1))\n"
   ]
  },
  {
   "cell_type": "code",
   "execution_count": 100,
   "metadata": {},
   "outputs": [
    {
     "name": "stdout",
     "output_type": "stream",
     "text": [
      "  * * * *\n",
      "  *  *\n",
      "  *  *\n",
      "  *  *\n"
     ]
    }
   ],
   "source": [
    "print(\"  * * * *\")\n",
    "print(\"  *  *\")\n",
    "print(\"  *  *\")\n",
    "print(\"  *  *\")"
   ]
  },
  {
   "cell_type": "code",
   "execution_count": 104,
   "metadata": {},
   "outputs": [
    {
     "name": "stdout",
     "output_type": "stream",
     "text": [
      "\"SAMUEL\"\n"
     ]
    }
   ],
   "source": [
    "print(nombre)"
   ]
  },
  {
   "cell_type": "code",
   "execution_count": 7,
   "metadata": {},
   "outputs": [
    {
     "ename": "SyntaxError",
     "evalue": "invalid character '¨' (U+00A8) (4046700702.py, line 1)",
     "output_type": "error",
     "traceback": [
      "\u001b[1;36m  Cell \u001b[1;32mIn[7], line 1\u001b[1;36m\u001b[0m\n\u001b[1;33m    dicc=¨{}\u001b[0m\n\u001b[1;37m         ^\u001b[0m\n\u001b[1;31mSyntaxError\u001b[0m\u001b[1;31m:\u001b[0m invalid character '¨' (U+00A8)\n"
     ]
    }
   ],
   "source": [
    "dicc=¨{'manzana':1.5,}\n",
    "def calcular_precio(dicc,fruta,kilos):\n",
    "    if fruta in dicc:\n",
    "        return dicc [fruta]* kilos\n",
    "    else:\n",
    "        return fruta no encontrada en el diccionario"
   ]
  },
  {
   "cell_type": "code",
   "execution_count": 12,
   "metadata": {},
   "outputs": [],
   "source": [
    "numeros = [1,2,3,4,5]\n",
    "def media_mediana(*args)-> float:\n",
    "\n",
    "    media = sum(lista)/len(lista)\n",
    "\n",
    "    print('media', media)\n",
    "\n",
    "    lista.sort()\n",
    "    punto_medio = len(lista)//2\n",
    "\n",
    "    if len(lista) % 2 == 0:\n",
    "\n",
    "        mediana = sum (lista[punto_medio-1:punto_medio+1])/2\n",
    "        print ('mediana', mediana)\n",
    "    else: \n",
    "        mediana = sum(lista[punto_medio-1:punto_medio+1])\n",
    "        print ('mediana',mediana)   "
   ]
  },
  {
   "cell_type": "code",
   "execution_count": 14,
   "metadata": {},
   "outputs": [
    {
     "name": "stdout",
     "output_type": "stream",
     "text": [
      "*\n",
      "**\n",
      "***\n",
      "****\n",
      "*****\n",
      "******\n"
     ]
    }
   ],
   "source": [
    "n=6\n",
    "for i in range (1,n+1):\n",
    "    print('*'*i)"
   ]
  },
  {
   "cell_type": "code",
   "execution_count": 59,
   "metadata": {},
   "outputs": [
    {
     "name": "stdout",
     "output_type": "stream",
     "text": [
      "*\n",
      "* *\n",
      "* * *\n",
      "* * * *\n",
      "* * * * *\n"
     ]
    }
   ],
   "source": [
    "print (\"*\")\n",
    "print (\"*\"\" \"\"*\")\n",
    "print (\"*\"\" \"\"*\"\" \"\"*\")\n",
    "print (\"*\"\" \"\"*\"\" \"\"*\"\" \"\"*\")\n",
    "print (\"*\"\" \"\"*\"\" \"\"*\"\" \"\"*\"\" \"\"*\")"
   ]
  },
  {
   "cell_type": "code",
   "execution_count": 33,
   "metadata": {},
   "outputs": [
    {
     "name": "stdout",
     "output_type": "stream",
     "text": [
      "España\n"
     ]
    }
   ],
   "source": [
    "def pais(codigo):\n",
    "\n",
    "    dicc = {\n",
    "    'es':'España',\n",
    "    'us':'Estados unidos',\n",
    "    'fr':'Francia',\n",
    "    }\n",
    "\n",
    "    codigo = codigo.lower()\n",
    "    \n",
    "    return dicc.get(codigo,'no está actualizado')\n",
    "\n",
    "print(pais('es'))"
   ]
  },
  {
   "cell_type": "code",
   "execution_count": 52,
   "metadata": {},
   "outputs": [
    {
     "name": "stdout",
     "output_type": "stream",
     "text": [
      "pizza\n"
     ]
    }
   ],
   "source": [
    "def dia_semana(dia):\n",
    "    \n",
    "    dicc = {\n",
    "    'lunes':'piernas',\n",
    "    'martes':'brazos',\n",
    "    'miercoles':'abdomen',\n",
    "    'jueves':'cardio',\n",
    "    'viernes':'cerveza',\n",
    "    'sabado':'pizza',\n",
    "    'domingo':'descansa',\n",
    "    }\n",
    "\n",
    "    dia = dia.lower()\n",
    "\n",
    "    return dicc.pop(dia)\n",
    "\n",
    "print(dia_semana('sabado'))\n",
    "    "
   ]
  },
  {
   "cell_type": "code",
   "execution_count": 63,
   "metadata": {},
   "outputs": [
    {
     "data": {
      "text/plain": [
       "'pizza'"
      ]
     },
     "execution_count": 63,
     "metadata": {},
     "output_type": "execute_result"
    }
   ],
   "source": [
    "def que_toca_hoy(dia):\n",
    "\n",
    "    dicc= {\n",
    "    'lunes':'piernas',\n",
    "    'martes':'brazos',\n",
    "    'miercoles':'abdomen',\n",
    "    'jueves':'cardio',\n",
    "    'viernes':'cerveza',\n",
    "    'sabado':'pizza',\n",
    "    'domingo':'descansa',\n",
    "    }\n",
    "    try:\n",
    "        return dicc[dia]\n",
    "    except KeyError:\n",
    "        return 'dia no valido'\n",
    "\n",
    "que_toca_hoy('sabado')"
   ]
  },
  {
   "cell_type": "code",
   "execution_count": 48,
   "metadata": {},
   "outputs": [
    {
     "name": "stdout",
     "output_type": "stream",
     "text": [
      "piernas\n"
     ]
    }
   ],
   "source": [
    "dia = 'lunes'\n",
    "match dia:\n",
    "    case 'lunes':\n",
    "        print ('piernas')\n",
    "    case 'martes':\n",
    "        print ('bar')\n",
    "    case 'miercoles':\n",
    "        print ('futbol')\n",
    "    case 'jueves':\n",
    "        print ('gym')\n",
    "    case 'viernes':\n",
    "        print ('peli')\n"
   ]
  },
  {
   "cell_type": "markdown",
   "metadata": {},
   "source": [
    "1.Imprimir los primeros 10 números naturales\n",
    "   Escribe un programa que imprima los números del 1 al 10 utilizando un bucle for."
   ]
  },
  {
   "cell_type": "code",
   "execution_count": 22,
   "metadata": {},
   "outputs": [
    {
     "name": "stdout",
     "output_type": "stream",
     "text": [
      "1\n",
      "2\n",
      "3\n",
      "4\n",
      "5\n",
      "6\n",
      "7\n",
      "8\n",
      "9\n",
      "10\n"
     ]
    }
   ],
   "source": [
    "for i in range(1,11):\n",
    "    print (i)"
   ]
  },
  {
   "cell_type": "markdown",
   "metadata": {},
   "source": [
    "2 Suma de dos números\n",
    "Escribe un programa que solicite al usuario dos números y muestre la suma de ellos"
   ]
  },
  {
   "cell_type": "code",
   "execution_count": 11,
   "metadata": {},
   "outputs": [
    {
     "name": "stdout",
     "output_type": "stream",
     "text": [
      "10.0\n"
     ]
    }
   ],
   "source": [
    "num_usuario1 = float(input(\"indique un numero\"))\n",
    "num_usuario2 = float(input(\"indique otro numero\"))\n",
    "suma = num_usuario1 + num_usuario2\n",
    "print (suma)\n"
   ]
  },
  {
   "cell_type": "markdown",
   "metadata": {},
   "source": [
    "3.Identificar números pares e impares\n",
    "Escribe un programa que pida un número al usuario e indique si es par o impar."
   ]
  },
  {
   "cell_type": "code",
   "execution_count": 24,
   "metadata": {},
   "outputs": [
    {
     "name": "stdout",
     "output_type": "stream",
     "text": [
      "{13} es impar\n"
     ]
    }
   ],
   "source": [
    "numero = int(input(\"diga un numero\"))\n",
    "\n",
    "if numero % 2 == 0: \n",
    "    print({numero}, \"es par\") \n",
    "    \n",
    "else: \n",
    "    print({numero}, \"es impar\")\n"
   ]
  },
  {
   "cell_type": "markdown",
   "metadata": {},
   "source": [
    "4.Reverso de una cadena\n",
    "Escribe un programa que pida al usuario una cadena y la imprima al revés."
   ]
  },
  {
   "cell_type": "code",
   "execution_count": 13,
   "metadata": {},
   "outputs": [
    {
     "name": "stdout",
     "output_type": "stream",
     "text": [
      "reivaj a acot el\n"
     ]
    }
   ],
   "source": [
    "cadena = (input(\"diga una cadena\"))\n",
    "cadenaInvertida = (cadena[::-1])\n",
    "print (cadenaInvertida)"
   ]
  },
  {
   "cell_type": "markdown",
   "metadata": {},
   "source": [
    "5Comprobar si un número es positivo, negativo o cero\n",
    "Escribe un programa que solicite un número y muestre si es positivo, negativo o cero."
   ]
  },
  {
   "cell_type": "code",
   "execution_count": 28,
   "metadata": {},
   "outputs": [
    {
     "name": "stdout",
     "output_type": "stream",
     "text": [
      "el numero es cero\n"
     ]
    }
   ],
   "source": [
    "numero_entero= int(input(\"diga un numero\"))\n",
    "    \n",
    "if numero_entero <0:\n",
    "        print (\"el numero es negativo\")\n",
    "\n",
    "elif numero_entero >0:\n",
    "        print (\"print el numero es positivo\")\n",
    "    \n",
    "else:\n",
    "        print (\"el numero es cero\")\n"
   ]
  },
  {
   "cell_type": "markdown",
   "metadata": {},
   "source": [
    "6 Suma de elementos de una lista\n",
    "Escribe un programa que tome una lista de números y devuelva la suma de todos los elementos de la lista."
   ]
  },
  {
   "cell_type": "code",
   "execution_count": 30,
   "metadata": {},
   "outputs": [
    {
     "name": "stdout",
     "output_type": "stream",
     "text": [
      "255\n"
     ]
    }
   ],
   "source": [
    "lista_numeros = [1,8,5,4,7,9,6,54,2,5,58,4,45,32,15]\n",
    "suma_de_numeros =sum(lista_numeros)\n",
    "print(suma_de_numeros)"
   ]
  },
  {
   "cell_type": "markdown",
   "metadata": {},
   "source": [
    "7.Conteo de vocales en una cadena\n",
    "Escribe un programa que tome una cadena de entrada y cuente cuántas vocales (a, e, i, o, u) contiene"
   ]
  },
  {
   "cell_type": "code",
   "execution_count": 35,
   "metadata": {},
   "outputs": [
    {
     "name": "stdout",
     "output_type": "stream",
     "text": [
      "la frase tiene 10 vocales\n"
     ]
    }
   ],
   "source": [
    "frase = \"hoy es sabado y tenemos clase\"\n",
    "vocales =\"a,e,i,o,u\" \n",
    "v=0\n",
    "for i in frase:\n",
    "    if i in vocales:\n",
    "        v = v+1\n",
    "\n",
    "print(f\"la frase tiene {v} vocales\")"
   ]
  },
  {
   "cell_type": "markdown",
   "metadata": {},
   "source": [
    "8.Calcular el factorial de un número\n",
    "Escribe una función que reciba un número entero como argumento y devuelva su factorial utilizando recursión."
   ]
  },
  {
   "cell_type": "code",
   "execution_count": 15,
   "metadata": {},
   "outputs": [
    {
     "name": "stdout",
     "output_type": "stream",
     "text": [
      "1\n",
      "2\n",
      "3\n",
      "4\n",
      "5\n",
      "\n",
      " 120\n"
     ]
    }
   ],
   "source": [
    "num_factorial = 5\n",
    "\n",
    "output = 1\n",
    "\n",
    "for i in range(num_factorial):\n",
    "    output = output*(i+1)\n",
    "    print(i+1)\n",
    "    \n",
    "print('\\n',output)"
   ]
  },
  {
   "cell_type": "code",
   "execution_count": 14,
   "metadata": {},
   "outputs": [
    {
     "data": {
      "text/plain": [
       "120"
      ]
     },
     "execution_count": 14,
     "metadata": {},
     "output_type": "execute_result"
    }
   ],
   "source": [
    "def factorial(num:int)->int:\n",
    "        if num == 1:\n",
    "                return 1\n",
    "        else:\n",
    "                return num * factorial(num-1)\n",
    "\n",
    "factorial(5)"
   ]
  },
  {
   "cell_type": "code",
   "execution_count": 2,
   "metadata": {},
   "outputs": [
    {
     "name": "stdout",
     "output_type": "stream",
     "text": [
      "2\n"
     ]
    }
   ],
   "source": [
    "import math\n",
    "print(math.factorial(2))"
   ]
  },
  {
   "cell_type": "markdown",
   "metadata": {},
   "source": [
    "9.Crear un generador de contraseñas aleatorias\n",
    "Escribe un programa que genere contraseñas aleatorias de longitud variable. Las contraseñas deben incluir letras mayúsculas, minúsculas, números y símbolos especiales."
   ]
  },
  {
   "cell_type": "code",
   "execution_count": 7,
   "metadata": {},
   "outputs": [
    {
     "ename": "AttributeError",
     "evalue": "'str' object has no attribute 'letras_ascii'",
     "output_type": "error",
     "traceback": [
      "\u001b[1;31m---------------------------------------------------------------------------\u001b[0m",
      "\u001b[1;31mAttributeError\u001b[0m                            Traceback (most recent call last)",
      "Cell \u001b[1;32mIn[7], line 4\u001b[0m\n\u001b[0;32m      2\u001b[0m \u001b[38;5;28;01mimport\u001b[39;00m \u001b[38;5;21;01mstring\u001b[39;00m\n\u001b[0;32m      3\u001b[0m cadena \u001b[38;5;241m=\u001b[39m \u001b[38;5;124m\"\u001b[39m\u001b[38;5;124mcadena.ascii_letters\u001b[39m\u001b[38;5;124m\"\u001b[39m\n\u001b[1;32m----> 4\u001b[0m letras \u001b[38;5;241m=\u001b[39m \u001b[43mcadena\u001b[49m\u001b[38;5;241;43m.\u001b[39;49m\u001b[43mletras_ascii\u001b[49m\n\u001b[0;32m      5\u001b[0m digitos \u001b[38;5;241m=\u001b[39m cadena\u001b[38;5;241m.\u001b[39mdigitos\n\u001b[0;32m      6\u001b[0m caracteres_especiales \u001b[38;5;241m=\u001b[39m cadena\u001b[38;5;241m.\u001b[39mpuntuacion\n",
      "\u001b[1;31mAttributeError\u001b[0m: 'str' object has no attribute 'letras_ascii'"
     ]
    }
   ],
   "source": [
    "import secrets\n",
    "import string\n",
    "cadena = \"cadena.ascii_letters\"\n",
    "letras = cadena.letras_ascii\n",
    "digitos = cadena.digitos\n",
    "caracteres_especiales = cadena.puntuacion\n",
    "alfabeto = letras + digitos + caracteres_especiales\n",
    "pwd_length = 12"
   ]
  },
  {
   "cell_type": "code",
   "execution_count": 175,
   "metadata": {},
   "outputs": [],
   "source": [
    "import string\n",
    "import random\n",
    "\n",
    "def generar_contraseña()->str:\n",
    "    caracteres = string.ascii_letters + string.digits + string.punctuation\n",
    "    contraseña = \"\".join(random.choice(caracteres)for _ in range(random.randint(8,16)))\n",
    "    return contraseña\n"
   ]
  },
  {
   "cell_type": "code",
   "execution_count": 178,
   "metadata": {},
   "outputs": [
    {
     "data": {
      "text/plain": [
       "'fdlYigDEA!'"
      ]
     },
     "execution_count": 178,
     "metadata": {},
     "output_type": "execute_result"
    }
   ],
   "source": [
    "generar_contraseña()"
   ]
  },
  {
   "cell_type": "markdown",
   "metadata": {},
   "source": [
    "10 \n",
    "Crear una baraja de póker\n",
    "Escribe un programa que cree una baraja de cartas de póker (52 cartas). Cada carta debe tener un palo (corazones, diamantes, tréboles, picas) y un valor (del 2 al 10, J, Q, K, A). Luego, simula mezclar la baraja y reparte 5 cartas al azar a un \"jugador\n"
   ]
  },
  {
   "cell_type": "code",
   "execution_count": 183,
   "metadata": {},
   "outputs": [
    {
     "data": {
      "text/plain": [
       "['7♠', '10♠', '10♦', '4♦', '5♣']"
      ]
     },
     "execution_count": 183,
     "metadata": {},
     "output_type": "execute_result"
    }
   ],
   "source": [
    "numeros=[\"A\",\"2\",\"3\",\"4\",\"5\",\"6\",\"7\",\"8\",\"9\",\"10\",\"J\",\"Q\",\"K\"]\n",
    "palos = [\"♥\",\"♦\",\"♣\",\"♠\"]\n",
    "\n",
    "baraja = []\n",
    "for numero in numeros:\n",
    "        for palo in palos:\n",
    "            baraja.append(f\"{numero}{palo}\")\n",
    "\n",
    "random.sample(baraja,5)    "
   ]
  },
  {
   "cell_type": "code",
   "execution_count": 26,
   "metadata": {},
   "outputs": [
    {
     "data": {
      "text/plain": [
       "['A♥',\n",
       " 'A♦',\n",
       " 'A♣',\n",
       " 'A♠',\n",
       " '2♥',\n",
       " '2♦',\n",
       " '2♣',\n",
       " '2♠',\n",
       " '3♥',\n",
       " '3♦',\n",
       " '3♣',\n",
       " '3♠',\n",
       " '4♥',\n",
       " '4♦',\n",
       " '4♣',\n",
       " '4♠',\n",
       " '5♥',\n",
       " '5♦',\n",
       " '5♣',\n",
       " '5♠',\n",
       " '6♥',\n",
       " '6♦',\n",
       " '6♣',\n",
       " '6♠',\n",
       " '7♥',\n",
       " '7♦',\n",
       " '7♣',\n",
       " '7♠',\n",
       " '8♥',\n",
       " '8♦',\n",
       " '8♣',\n",
       " '8♠',\n",
       " '9♥',\n",
       " '9♦',\n",
       " '9♣',\n",
       " '9♠',\n",
       " '10♥',\n",
       " '10♦',\n",
       " '10♣',\n",
       " '10♠',\n",
       " 'J♥',\n",
       " 'J♦',\n",
       " 'J♣',\n",
       " 'J♠',\n",
       " 'Q♥',\n",
       " 'Q♦',\n",
       " 'Q♣',\n",
       " 'Q♠',\n",
       " 'K♥',\n",
       " 'K♦',\n",
       " 'K♣',\n",
       " 'K♠']"
      ]
     },
     "execution_count": 26,
     "metadata": {},
     "output_type": "execute_result"
    }
   ],
   "source": [
    "baraja = [numero+palo for numero in numeros for palo in palos]\n",
    "baraja"
   ]
  },
  {
   "cell_type": "markdown",
   "metadata": {},
   "source": [
    "20 crear una funcion que al pasarle un texto debe retonar un diccionario con las letras y sus cantidades."
   ]
  },
  {
   "cell_type": "code",
   "execution_count": null,
   "metadata": {},
   "outputs": [],
   "source": [
    "def contar_letras"
   ]
  },
  {
   "cell_type": "markdown",
   "metadata": {},
   "source": [
    "21 crea un juego de adivina el numero"
   ]
  },
  {
   "cell_type": "code",
   "execution_count": 108,
   "metadata": {},
   "outputs": [
    {
     "ename": "SyntaxError",
     "evalue": "incomplete input (4191819534.py, line 5)",
     "output_type": "error",
     "traceback": [
      "\u001b[1;36m  Cell \u001b[1;32mIn[108], line 5\u001b[1;36m\u001b[0m\n\u001b[1;33m    while intentos <3:\u001b[0m\n\u001b[1;37m                      ^\u001b[0m\n\u001b[1;31mSyntaxError\u001b[0m\u001b[1;31m:\u001b[0m incomplete input\n"
     ]
    }
   ],
   "source": [
    "import random\n",
    "\n",
    "numero = input(random.randint (1,20))\n",
    "print (\"decir numero\")\n",
    "while intentos <3:"
   ]
  },
  {
   "cell_type": "markdown",
   "metadata": {},
   "source": [
    "22 crea una funcion que solicite una lista te devuelva el numero de elementos por tipo cada tipo dato"
   ]
  },
  {
   "cell_type": "code",
   "execution_count": 2,
   "metadata": {},
   "outputs": [
    {
     "ename": "NameError",
     "evalue": "name 'none' is not defined",
     "output_type": "error",
     "traceback": [
      "\u001b[1;31m---------------------------------------------------------------------------\u001b[0m",
      "\u001b[1;31mNameError\u001b[0m                                 Traceback (most recent call last)",
      "Cell \u001b[1;32mIn[2], line 1\u001b[0m\n\u001b[1;32m----> 1\u001b[0m lista \u001b[38;5;241m=\u001b[39m [\u001b[38;5;241m1\u001b[39m,\u001b[38;5;241m2\u001b[39m,\u001b[38;5;124m\"\u001b[39m\u001b[38;5;124ma\u001b[39m\u001b[38;5;124m\"\u001b[39m,\u001b[38;5;124m\"\u001b[39m\u001b[38;5;124mb\u001b[39m\u001b[38;5;124m\"\u001b[39m,\u001b[43mnone\u001b[49m,true,[],()]\n",
      "\u001b[1;31mNameError\u001b[0m: name 'none' is not defined"
     ]
    }
   ],
   "source": [
    "lista = [1,2,\"a\",\"b\",none,true,[],()]"
   ]
  },
  {
   "cell_type": "code",
   "execution_count": 4,
   "metadata": {},
   "outputs": [
    {
     "name": "stdout",
     "output_type": "stream",
     "text": [
      "1\n",
      "3\n",
      "5\n",
      "7\n",
      "9\n"
     ]
    }
   ],
   "source": [
    "for i in range(1,11,2):\n",
    "    print (i)"
   ]
  },
  {
   "cell_type": "code",
   "execution_count": 171,
   "metadata": {},
   "outputs": [
    {
     "name": "stdout",
     "output_type": "stream",
     "text": [
      "20\n",
      "18\n",
      "16\n",
      "14\n",
      "12\n",
      "10\n",
      "8\n",
      "6\n",
      "4\n",
      "2\n"
     ]
    }
   ],
   "source": [
    "for i in range(20,0,-2):\n",
    "    print(i)"
   ]
  },
  {
   "cell_type": "code",
   "execution_count": 186,
   "metadata": {},
   "outputs": [
    {
     "name": "stdout",
     "output_type": "stream",
     "text": [
      "respuesta equivocada, responda otra vez\n",
      "enhorabuena!!!!\n"
     ]
    }
   ],
   "source": [
    "respuesta = int(input(\"¿cuántas patas tiene una araña?\")) \n",
    "while respuesta != 8:\n",
    "    respuesta = int(input(\"repuesta equivocada. responda otra vez\"))\n",
    "\n",
    "print(\"respuesta equivocada, responda otra vez\")\n",
    "\n",
    "print(\"enhorabuena!!!!\")\n"
   ]
  },
  {
   "cell_type": "code",
   "execution_count": 187,
   "metadata": {},
   "outputs": [
    {
     "name": "stdout",
     "output_type": "stream",
     "text": [
      "8 X 0 = 0\n",
      "8 X 1 = 8\n",
      "8 X 2 = 16\n",
      "8 X 3 = 24\n",
      "8 X 4 = 32\n",
      "8 X 5 = 40\n",
      "8 X 6 = 48\n",
      "8 X 7 = 56\n",
      "8 X 8 = 64\n",
      "8 X 9 = 72\n",
      "8 X 10 = 80\n"
     ]
    }
   ],
   "source": [
    "numero = 8\n",
    "def mostrar_linea(num,linea): \n",
    "    print (num,\"X\", linea,\"=\", num*linea)\n",
    "\n",
    "for n in range(11):\n",
    "    mostrar_linea(numero,n)"
   ]
  },
  {
   "cell_type": "code",
   "execution_count": 47,
   "metadata": {},
   "outputs": [
    {
     "name": "stdout",
     "output_type": "stream",
     "text": [
      "coche\n",
      "coche\n",
      "coche\n",
      "coche\n",
      "coche\n",
      "coche\n",
      "coche\n",
      "coche\n",
      "coche\n",
      "coche\n"
     ]
    }
   ],
   "source": [
    "palabra = \"coche\"\n",
    "for i in range(10):\n",
    "    print(palabra)"
   ]
  },
  {
   "cell_type": "code",
   "execution_count": 188,
   "metadata": {},
   "outputs": [
    {
     "name": "stdout",
     "output_type": "stream",
     "text": [
      "has cumplido 0 años\n",
      "has cumplido 1 años\n",
      "has cumplido 2 años\n",
      "has cumplido 3 años\n",
      "has cumplido 4 años\n",
      "has cumplido 5 años\n",
      "has cumplido 6 años\n",
      "has cumplido 7 años\n",
      "has cumplido 8 años\n",
      "has cumplido 9 años\n",
      "has cumplido 10 años\n",
      "has cumplido 11 años\n",
      "has cumplido 12 años\n",
      "has cumplido 13 años\n",
      "has cumplido 14 años\n",
      "has cumplido 15 años\n",
      "has cumplido 16 años\n",
      "has cumplido 17 años\n",
      "has cumplido 18 años\n",
      "has cumplido 19 años\n",
      "has cumplido 20 años\n",
      "has cumplido 21 años\n",
      "has cumplido 22 años\n",
      "has cumplido 23 años\n",
      "has cumplido 24 años\n",
      "has cumplido 25 años\n",
      "has cumplido 26 años\n",
      "has cumplido 27 años\n",
      "has cumplido 28 años\n",
      "has cumplido 29 años\n",
      "has cumplido 30 años\n",
      "has cumplido 31 años\n",
      "has cumplido 32 años\n",
      "has cumplido 33 años\n",
      "has cumplido 34 años\n",
      "has cumplido 35 años\n"
     ]
    }
   ],
   "source": [
    "edad_usuario = int(input(\"diga su edad:\"))\n",
    "for i in range (edad_usuario):\n",
    "    print (\"has cumplido\"\" \" + str(+i) +\" \" \"años\")\n"
   ]
  },
  {
   "cell_type": "code",
   "execution_count": 44,
   "metadata": {},
   "outputs": [
    {
     "name": "stdout",
     "output_type": "stream",
     "text": [
      "1,3,5,7,9,"
     ]
    }
   ],
   "source": [
    "numero_positivo = int(input(\"diga un numero positivo\"))\n",
    "for i in range (1, n+1, 2):\n",
    "    print(i, end= \",\")"
   ]
  },
  {
   "cell_type": "code",
   "execution_count": 157,
   "metadata": {},
   "outputs": [
    {
     "name": "stdout",
     "output_type": "stream",
     "text": [
      "1\t2\t3\t4\t5\t6\t7\t8\t9\t10\t11\t12\t13\t14\t\n",
      "2\t4\t6\t8\t10\t12\t14\t16\t18\t20\t22\t24\t26\t28\t\n",
      "3\t6\t9\t12\t15\t18\t21\t24\t27\t30\t33\t36\t39\t42\t\n",
      "4\t8\t12\t16\t20\t24\t28\t32\t36\t40\t44\t48\t52\t56\t\n",
      "5\t10\t15\t20\t25\t30\t35\t40\t45\t50\t55\t60\t65\t70\t\n",
      "6\t12\t18\t24\t30\t36\t42\t48\t54\t60\t66\t72\t78\t84\t\n",
      "7\t14\t21\t28\t35\t42\t49\t56\t63\t70\t77\t84\t91\t98\t\n",
      "8\t16\t24\t32\t40\t48\t56\t64\t72\t80\t88\t96\t104\t112\t\n",
      "9\t18\t27\t36\t45\t54\t63\t72\t81\t90\t99\t108\t117\t126\t\n",
      "10\t20\t30\t40\t50\t60\t70\t80\t90\t100\t110\t120\t130\t140\t\n",
      "11\t22\t33\t44\t55\t66\t77\t88\t99\t110\t121\t132\t143\t154\t\n",
      "12\t24\t36\t48\t60\t72\t84\t96\t108\t120\t132\t144\t156\t168\t\n",
      "13\t26\t39\t52\t65\t78\t91\t104\t117\t130\t143\t156\t169\t182\t\n",
      "14\t28\t42\t56\t70\t84\t98\t112\t126\t140\t154\t168\t182\t196\t\n"
     ]
    }
   ],
   "source": [
    "# imprimir todas las tablas de multiplicar\n",
    "for i in range(1, 15):\n",
    "    for j in range(1, 15):\n",
    "        print(i*j, end=\"\\t\")\n",
    "    print(\"\")"
   ]
  },
  {
   "cell_type": "code",
   "execution_count": 189,
   "metadata": {},
   "outputs": [
    {
     "data": {
      "text/plain": [
       "21"
      ]
     },
     "execution_count": 189,
     "metadata": {},
     "output_type": "execute_result"
    }
   ],
   "source": [
    "# secuencia fibonacci\n",
    "def fib(n):\n",
    "    if n <2:\n",
    "        return n\n",
    "    else:\n",
    "        return fib(n-1)+fib(n-2)\n",
    "    \n",
    "fib(8)"
   ]
  },
  {
   "cell_type": "code",
   "execution_count": 65,
   "metadata": {},
   "outputs": [
    {
     "name": "stdout",
     "output_type": "stream",
     "text": [
      "0\n",
      "1\n",
      "1\n",
      "2\n",
      "3\n",
      "5\n",
      "8\n",
      "13\n",
      "21\n",
      "34\n",
      "55\n",
      "89\n",
      "144\n",
      "233\n",
      "377\n",
      "610\n",
      "987\n",
      "1597\n",
      "2584\n",
      "4181\n"
     ]
    }
   ],
   "source": [
    "for x in range(20):\n",
    "    print(fib(x))"
   ]
  },
  {
   "cell_type": "code",
   "execution_count": 143,
   "metadata": {},
   "outputs": [
    {
     "name": "stdout",
     "output_type": "stream",
     "text": [
      "2\n",
      "4\n",
      "6\n",
      "8\n",
      "10\n",
      "12\n",
      "14\n"
     ]
    }
   ],
   "source": [
    "pares = [2,4,6,8,10,12,14]\n",
    "\n",
    "i = 0\n",
    "    \n",
    "while i < len(pares):\n",
    "    print (pares[i])\n",
    "    i += 1\n",
    "    \n"
   ]
  },
  {
   "cell_type": "code",
   "execution_count": 154,
   "metadata": {},
   "outputs": [
    {
     "name": "stdout",
     "output_type": "stream",
     "text": [
      "<class 'int'>\n",
      "<class 'float'>\n",
      "3.3\n",
      "<class 'float'>\n",
      "2\n",
      "1.0\n"
     ]
    }
   ],
   "source": [
    "# convertir entero a float\n",
    "a = 1 \n",
    "b = 2.3\n",
    "print (type(a))\n",
    "print (type(b))\n",
    "c = a+b\n",
    "print (c)\n",
    "print(type(c))\n",
    "print (int(b))\n",
    "print (float(a))"
   ]
  },
  {
   "cell_type": "code",
   "execution_count": null,
   "metadata": {},
   "outputs": [],
   "source": []
  }
 ],
 "metadata": {
  "kernelspec": {
   "display_name": "Python 3",
   "language": "python",
   "name": "python3"
  },
  "language_info": {
   "codemirror_mode": {
    "name": "ipython",
    "version": 3
   },
   "file_extension": ".py",
   "mimetype": "text/x-python",
   "name": "python",
   "nbconvert_exporter": "python",
   "pygments_lexer": "ipython3",
   "version": "3.12.6"
  }
 },
 "nbformat": 4,
 "nbformat_minor": 2
}
