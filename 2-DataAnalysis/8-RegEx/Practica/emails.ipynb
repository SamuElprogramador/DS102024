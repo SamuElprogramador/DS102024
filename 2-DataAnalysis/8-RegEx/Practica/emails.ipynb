{
 "cells": [
  {
   "cell_type": "code",
   "execution_count": 1,
   "metadata": {},
   "outputs": [],
   "source": [
    "import re\n",
    "\n",
    "emails = '''\n",
    "loquesea@\n",
    "juanmaniglia@thebridgeschool.tech\n",
    "juan.maniglia@uc3m.es\n",
    "juan-12-1993@mi-correo.net\n",
    "'''"
   ]
  },
  {
   "cell_type": "code",
   "execution_count": 4,
   "metadata": {},
   "outputs": [
    {
     "name": "stdout",
     "output_type": "stream",
     "text": [
      "['juanmaniglia@thebridgeschool.tech', 'juan.maniglia@uc3m.es', 'juan-12-1993@mi-correo.net']\n"
     ]
    }
   ],
   "source": [
    "import re\n",
    "\n",
    "def buscar_emails(emails):\n",
    " \n",
    "  patron = r\"[a-zA-Z0-9._%+-]+@[a-zA-Z0-9.-]+\\.[a-zA-Z]{2,}\"  \n",
    "  coincidencias = re.findall(patron, emails)\n",
    "  return coincidencias\n",
    "\n",
    "emails_encontrados = buscar_emails(emails)\n",
    "print(emails_encontrados)"
   ]
  },
  {
   "cell_type": "code",
   "execution_count": null,
   "metadata": {},
   "outputs": [],
   "source": []
  }
 ],
 "metadata": {
  "kernelspec": {
   "display_name": ".venv",
   "language": "python",
   "name": "python3"
  },
  "language_info": {
   "codemirror_mode": {
    "name": "ipython",
    "version": 3
   },
   "file_extension": ".py",
   "mimetype": "text/x-python",
   "name": "python",
   "nbconvert_exporter": "python",
   "pygments_lexer": "ipython3",
   "version": "3.11.9"
  },
  "orig_nbformat": 4
 },
 "nbformat": 4,
 "nbformat_minor": 2
}
