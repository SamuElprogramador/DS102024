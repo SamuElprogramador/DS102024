{
 "cells": [
  {
   "cell_type": "markdown",
   "metadata": {},
   "source": [
    "![imagen](./img/ejercicios.png)"
   ]
  },
  {
   "cell_type": "markdown",
   "metadata": {},
   "source": [
    "## Ejercicio 1\n",
    "1. Crea un array que vaya del 0 al 9 y que se llame `my_array`\n",
    "2. Imprime por pantalla los elementos [9 7 5 3 1] en ese orden."
   ]
  },
  {
   "cell_type": "code",
   "execution_count": 1,
   "metadata": {},
   "outputs": [],
   "source": [
    "import numpy as np"
   ]
  },
  {
   "cell_type": "code",
   "execution_count": 2,
   "metadata": {},
   "outputs": [
    {
     "data": {
      "text/plain": [
       "array([0, 1, 2, 3, 4, 5, 6, 7, 8, 9])"
      ]
     },
     "execution_count": 2,
     "metadata": {},
     "output_type": "execute_result"
    }
   ],
   "source": [
    "my_array = np.arange(0,10)\n",
    "my_array"
   ]
  },
  {
   "cell_type": "markdown",
   "metadata": {},
   "source": [
    "## Ejercicio 2\n",
    "Imprime por pantalla la secuencia [8 7] del array `my_array`"
   ]
  },
  {
   "cell_type": "code",
   "execution_count": 3,
   "metadata": {},
   "outputs": [
    {
     "name": "stdout",
     "output_type": "stream",
     "text": [
      "[8 7]\n"
     ]
    }
   ],
   "source": [
    "print(my_array[8:6:-1])"
   ]
  },
  {
   "cell_type": "markdown",
   "metadata": {},
   "source": [
    "## Ejercicio 3\n",
    "Imprime por pantalla la secuencia [2 1 0] de `my_array`"
   ]
  },
  {
   "cell_type": "code",
   "execution_count": 8,
   "metadata": {},
   "outputs": [
    {
     "name": "stdout",
     "output_type": "stream",
     "text": [
      "[2 1 0]\n"
     ]
    }
   ],
   "source": [
    "print(my_array[2::-1])"
   ]
  },
  {
   "cell_type": "markdown",
   "metadata": {},
   "source": [
    "## Ejercicio 4\n",
    "1. Crea una matriz de 4x5, con una secuencia del 1 al 20\n",
    "2. Invierte totalmente la matriz. Tanto las filas, como las columnas"
   ]
  },
  {
   "cell_type": "code",
   "execution_count": 9,
   "metadata": {},
   "outputs": [],
   "source": [
    "matriz=np.arange(1,21)"
   ]
  },
  {
   "cell_type": "code",
   "execution_count": 10,
   "metadata": {},
   "outputs": [],
   "source": [
    "matriz=matriz.reshape(4,5)"
   ]
  },
  {
   "cell_type": "code",
   "execution_count": 11,
   "metadata": {},
   "outputs": [
    {
     "name": "stdout",
     "output_type": "stream",
     "text": [
      "[[ 1  2  3  4  5]\n",
      " [ 6  7  8  9 10]\n",
      " [11 12 13 14 15]\n",
      " [16 17 18 19 20]]\n"
     ]
    }
   ],
   "source": [
    "print(matriz)"
   ]
  },
  {
   "cell_type": "markdown",
   "metadata": {},
   "source": [
    "## Ejercicio 5\n",
    "\n",
    "Obtén el siguiente array, partiendo de la matriz del ejercicio 4\n",
    "```Python\n",
    "array([[1, 2],\n",
    "       [6, 7]])\n",
    "```"
   ]
  },
  {
   "cell_type": "code",
   "execution_count": 13,
   "metadata": {},
   "outputs": [
    {
     "name": "stdout",
     "output_type": "stream",
     "text": [
      "[[1 2]\n",
      " [6 7]]\n"
     ]
    }
   ],
   "source": [
    "matriz = np.arange(1, 21).reshape(4, 5)\n",
    "resultado = matriz[[0, 1], :2]\n",
    "\n",
    "print(resultado)\n"
   ]
  },
  {
   "cell_type": "markdown",
   "metadata": {},
   "source": [
    "## Ejercicio 6\n",
    "Obtén el siguiente array, partiendo de la matriz del ejercicio 4\n",
    "```Python\n",
    "array([[ 1,  3,  5],\n",
    "       [11, 13, 15]])\n",
    "```"
   ]
  },
  {
   "cell_type": "code",
   "execution_count": 15,
   "metadata": {},
   "outputs": [
    {
     "name": "stdout",
     "output_type": "stream",
     "text": [
      "[[ 1  3  5]\n",
      " [11 13 15]]\n"
     ]
    }
   ],
   "source": [
    "matriz = np.arange(1, 21).reshape(4, 5)\n",
    "resultado = matriz[np.ix_([0, 2], [0, 2, 4])]\n",
    "\n",
    "print(resultado)\n"
   ]
  },
  {
   "cell_type": "markdown",
   "metadata": {},
   "source": [
    "## Ejercicio 7\n",
    "Obtén el siguiente array, partiendo de la matriz del ejercicio 4\n",
    "```Python\n",
    "array([[ 5,  4,  3,  2,  1],\n",
    "       [10,  9,  8,  7,  6],\n",
    "       [15, 14, 13, 12, 11]])\n",
    "```"
   ]
  },
  {
   "cell_type": "code",
   "execution_count": 17,
   "metadata": {},
   "outputs": [
    {
     "name": "stdout",
     "output_type": "stream",
     "text": [
      "[[ 5  4  3  2  1]\n",
      " [10  9  8  7  6]\n",
      " [15 14 13 12 11]]\n"
     ]
    }
   ],
   "source": [
    "matriz = np.arange(1, 21).reshape(4, 5)\n",
    "resultado = matriz[:3, ::-1]\n",
    "\n",
    "print(resultado)\n"
   ]
  },
  {
   "cell_type": "markdown",
   "metadata": {},
   "source": [
    "## Ejercicio 8\n",
    "Dado el siguiente array:\n",
    "\n",
    "```Python\n",
    "x = np.array([\"Loro\", \"Perro\", \"Gato\", \"Loro\", \"Perro\"])\n",
    "```\n",
    "\n",
    "Filtra el array para quedarte únicamente con los loros.\n",
    "\n",
    "Resuélvelo de dos maneras diferentes"
   ]
  },
  {
   "cell_type": "code",
   "execution_count": 18,
   "metadata": {},
   "outputs": [],
   "source": [
    "x = np.array([\"Loro\", \"Perro\", \"Gato\", \"Loro\", \"Perro\"])"
   ]
  },
  {
   "cell_type": "code",
   "execution_count": 19,
   "metadata": {},
   "outputs": [
    {
     "name": "stdout",
     "output_type": "stream",
     "text": [
      "['Loro' 'Loro']\n"
     ]
    }
   ],
   "source": [
    "loros = x[x == \"Loro\"]\n",
    "\n",
    "print(loros)\n"
   ]
  },
  {
   "cell_type": "code",
   "execution_count": 21,
   "metadata": {},
   "outputs": [
    {
     "name": "stdout",
     "output_type": "stream",
     "text": [
      "['Loro' 'Loro']\n"
     ]
    }
   ],
   "source": [
    "indices_parrot = np.where(x == \"Loro\")\n",
    "parrot = x[indices_parrot]\n",
    "\n",
    "print(parrot)"
   ]
  },
  {
   "cell_type": "markdown",
   "metadata": {},
   "source": [
    "## Ejercicio 9\n",
    "Crea una secuencia de 20 elementos y transformala en un array compuesto por 2 matrices de 5x2"
   ]
  },
  {
   "cell_type": "code",
   "execution_count": 22,
   "metadata": {},
   "outputs": [
    {
     "name": "stdout",
     "output_type": "stream",
     "text": [
      "[[[ 1  2]\n",
      "  [ 3  4]\n",
      "  [ 5  6]\n",
      "  [ 7  8]\n",
      "  [ 9 10]]\n",
      "\n",
      " [[11 12]\n",
      "  [13 14]\n",
      "  [15 16]\n",
      "  [17 18]\n",
      "  [19 20]]]\n"
     ]
    }
   ],
   "source": [
    "ejercicio_9 = np.arange(1, 21)\n",
    "\n",
    "array_matrices = ejercicio_9.reshape(2, 5, 2)\n",
    "\n",
    "print(array_matrices)"
   ]
  },
  {
   "cell_type": "markdown",
   "metadata": {},
   "source": [
    "## Ejercicio 10\n",
    "Obtén el siguiente array, partiendo de la matriz del ejercicio 4\n",
    "```Python\n",
    "array([[20, 19, 18, 17, 16],\n",
    "       [15, 14, 13, 12, 11],\n",
    "       [10,  9,  8,  7,  6],\n",
    "       [ 5,  4,  3,  2,  1]])\n",
    "```"
   ]
  },
  {
   "cell_type": "code",
   "execution_count": 23,
   "metadata": {},
   "outputs": [
    {
     "name": "stdout",
     "output_type": "stream",
     "text": [
      "[[20 19 18 17 16]\n",
      " [15 14 13 12 11]\n",
      " [10  9  8  7  6]\n",
      " [ 5  4  3  2  1]]\n"
     ]
    }
   ],
   "source": [
    "ejercicio_10 = matriz[::-1, ::-1]\n",
    "\n",
    "print(ejercicio_10)\n"
   ]
  },
  {
   "cell_type": "markdown",
   "metadata": {},
   "source": [
    "## Ejercicio 11\n",
    "Crea un array de 10 0s. ¿Cuánto ocupa en memoria?\n",
    "\n",
    "Sustituye el 4to elemento por 1, e imprime el array por pantalla"
   ]
  },
  {
   "cell_type": "code",
   "execution_count": 25,
   "metadata": {},
   "outputs": [
    {
     "name": "stdout",
     "output_type": "stream",
     "text": [
      "Array de 10 ceros: [0. 0. 0. 0. 0. 0. 0. 0. 0. 0.]\n",
      "Tamaño en memoria: 80 bytes\n",
      "ejercicio_11_modificado: [0. 0. 0. 1. 0. 0. 0. 0. 0. 0.]\n"
     ]
    }
   ],
   "source": [
    "ejercicio_11 = np.zeros(10)\n",
    "\n",
    "tamaño_bytes = ejercicio_11.nbytes\n",
    "\n",
    "print(f\"Array de 10 ceros: {ejercicio_11}\")\n",
    "print(f\"Tamaño en memoria: {tamaño_bytes} bytes\")\n",
    "\n",
    "ejercicio_11[3] = 1\n",
    "\n",
    "print(f\"ejercicio_11_modificado: {ejercicio_11}\")"
   ]
  },
  {
   "cell_type": "markdown",
   "metadata": {},
   "source": [
    "## Ejercicio 12\n",
    "Crea un vector que vaya del 10 al 49\n",
    "\n",
    "Inviértelo"
   ]
  },
  {
   "cell_type": "code",
   "execution_count": 26,
   "metadata": {},
   "outputs": [
    {
     "name": "stdout",
     "output_type": "stream",
     "text": [
      "[49 48 47 46 45 44 43 42 41 40 39 38 37 36 35 34 33 32 31 30 29 28 27 26\n",
      " 25 24 23 22 21 20 19 18 17 16 15 14 13 12 11 10]\n"
     ]
    }
   ],
   "source": [
    "ejercicio_12 = np.arange(10, 50)\n",
    "\n",
    "ejercicio_12_invertido = ejercicio_12[::-1]\n",
    "\n",
    "print(ejercicio_12_invertido)"
   ]
  },
  {
   "cell_type": "markdown",
   "metadata": {},
   "source": [
    "## Ejericio 13\n",
    "Encuentra los indices de los valores que no sean 0 del siguiente vector [1,2,0,0,4,0]. El output sería [0, 1, 4]. [Encuentra el método apropiado en la documentación.](https://numpy.org/doc/)"
   ]
  },
  {
   "cell_type": "code",
   "execution_count": 27,
   "metadata": {},
   "outputs": [
    {
     "name": "stdout",
     "output_type": "stream",
     "text": [
      "[0 1 4]\n"
     ]
    }
   ],
   "source": [
    "ejercicio_13 = np.array([1, 2, 0, 0, 4, 0])\n",
    "\n",
    "no_cero = np.nonzero(ejercicio_13)\n",
    "\n",
    "indices = no_cero[0]\n",
    "\n",
    "print(indices)"
   ]
  },
  {
   "cell_type": "markdown",
   "metadata": {},
   "source": [
    "## Ejercicio 14\n",
    "Crea una matriz de numeros aleatorios 10x10. Encuentra los valores mínimo y máximo."
   ]
  },
  {
   "cell_type": "code",
   "execution_count": 31,
   "metadata": {},
   "outputs": [
    {
     "name": "stdout",
     "output_type": "stream",
     "text": [
      "ejercicio 14 10x10:\n",
      "[[0.45487734 0.90705598 0.43994515 0.69293233 0.60065394 0.11431734\n",
      "  0.10937725 0.03948584 0.36568597 0.05075538]\n",
      " [0.84838154 0.89815517 0.87268356 0.36314486 0.7266775  0.23107616\n",
      "  0.16865223 0.9136542  0.85607856 0.64883183]\n",
      " [0.56808337 0.51246199 0.09410163 0.3123143  0.34940452 0.41510595\n",
      "  0.90507665 0.85808546 0.87356736 0.04493145]\n",
      " [0.77326583 0.43120576 0.01240938 0.24483692 0.98339804 0.97633661\n",
      "  0.23275853 0.69039758 0.54762528 0.59014678]\n",
      " [0.56979098 0.35162242 0.11135512 0.47227183 0.13179725 0.45003733\n",
      "  0.02567065 0.99827587 0.7042549  0.28860869]\n",
      " [0.38419254 0.80116411 0.39105009 0.14595947 0.36675466 0.92509011\n",
      "  0.6171406  0.94024981 0.78913775 0.76393924]\n",
      " [0.55449196 0.91850209 0.84373954 0.95551528 0.61642765 0.295112\n",
      "  0.93033722 0.62019573 0.68847623 0.110651  ]\n",
      " [0.89902417 0.94839893 0.26054871 0.01602118 0.18050577 0.59351244\n",
      "  0.5852664  0.23193803 0.25771185 0.29546919]\n",
      " [0.28325164 0.8314061  0.44225997 0.94166573 0.51290304 0.96078179\n",
      "  0.96494138 0.14138731 0.79287961 0.21435558]\n",
      " [0.24253702 0.86662949 0.52833484 0.52807258 0.68428873 0.1377811\n",
      "  0.15054176 0.35494969 0.7280442  0.74185617]]\n",
      "\n",
      "Valor mínimo: 0.012409379829771305\n",
      "Valor máximo: 0.9982758749374112\n"
     ]
    }
   ],
   "source": [
    "ejercicio_14 = np.random.rand(10, 10)\n",
    "\n",
    "valor_minimo = np.min(ejercicio_14)\n",
    "valor_maximo = np.max(ejercicio_14)\n",
    "\n",
    "print(\"ejercicio 14 10x10:\")\n",
    "print(ejercicio_14)\n",
    "print(f\"\\nValor mínimo: {valor_minimo}\")\n",
    "print(f\"Valor máximo: {valor_maximo}\")"
   ]
  },
  {
   "cell_type": "markdown",
   "metadata": {},
   "source": [
    "## Ejercicio 15\n",
    "Crea un vector aleatorio de tamaño 30 y calcula su media"
   ]
  },
  {
   "cell_type": "code",
   "execution_count": 32,
   "metadata": {},
   "outputs": [
    {
     "name": "stdout",
     "output_type": "stream",
     "text": [
      "ejercicio 15:\n",
      "[0.99996007 0.40575216 0.26913427 0.37758551 0.59725929 0.46941695\n",
      " 0.87378194 0.10687186 0.94300709 0.38043565 0.29704461 0.78069143\n",
      " 0.23118144 0.75196324 0.62477758 0.44603139 0.04978454 0.92175337\n",
      " 0.70483102 0.66000683 0.27188406 0.41796938 0.71018706 0.58722232\n",
      " 0.28241407 0.95259034 0.7173787  0.77648981 0.54855392 0.27721967]\n",
      "\n",
      "Media del vector: 0.5477726516229993\n"
     ]
    }
   ],
   "source": [
    "ejercicio_15 = np.random.rand(30)\n",
    "\n",
    "media_vector = np.mean(ejercicio_15)\n",
    "\n",
    "print(\"ejercicio 15:\")\n",
    "print(ejercicio_15)\n",
    "print(f\"\\nMedia del vector: {media_vector}\")"
   ]
  },
  {
   "cell_type": "markdown",
   "metadata": {},
   "source": [
    "## Ejercicio 16\n",
    "Crea un array cuadrado de 2D, con las dimensiones que quiras, pero que todo el borde esté compuesto por 1s, y el interior por 0s"
   ]
  },
  {
   "cell_type": "code",
   "execution_count": 34,
   "metadata": {},
   "outputs": [
    {
     "name": "stdout",
     "output_type": "stream",
     "text": [
      "[[1 1 1 1 1 1 1 1]\n",
      " [1 0 0 0 0 0 0 1]\n",
      " [1 0 0 0 0 0 0 1]\n",
      " [1 0 0 0 0 0 0 1]\n",
      " [1 0 0 0 0 0 0 1]\n",
      " [1 0 0 0 0 0 0 1]\n",
      " [1 0 0 0 0 0 0 1]\n",
      " [1 1 1 1 1 1 1 1]]\n"
     ]
    }
   ],
   "source": [
    "n = 8\n",
    "matriz = np.ones((n, n), dtype=int) \n",
    "matriz[1:-1, 1:-1] = 0 \n",
    "\n",
    "print(matriz)\n"
   ]
  },
  {
   "cell_type": "markdown",
   "metadata": {},
   "source": [
    "## Ejercicio 17\n",
    "Crea una mtriz de 8x8, y rellénala con 0s y 1s. Tienes que replicar:\n",
    "```Python\n",
    "[[0 1 0 1 0 1 0 1]\n",
    " [1 0 1 0 1 0 1 0]\n",
    " [0 1 0 1 0 1 0 1]\n",
    " [1 0 1 0 1 0 1 0]\n",
    " [0 1 0 1 0 1 0 1]\n",
    " [1 0 1 0 1 0 1 0]\n",
    " [0 1 0 1 0 1 0 1]\n",
    " [1 0 1 0 1 0 1 0]]\n",
    "```"
   ]
  },
  {
   "cell_type": "code",
   "execution_count": 37,
   "metadata": {},
   "outputs": [
    {
     "name": "stdout",
     "output_type": "stream",
     "text": [
      "[[0 1 0 1 0 1 0 1]\n",
      " [1 0 1 0 1 0 1 0]\n",
      " [0 1 0 1 0 1 0 1]\n",
      " [1 0 1 0 1 0 1 0]\n",
      " [0 1 0 1 0 1 0 1]\n",
      " [1 0 1 0 1 0 1 0]\n",
      " [0 1 0 1 0 1 0 1]\n",
      " [1 0 1 0 1 0 1 0]]\n"
     ]
    }
   ],
   "source": [
    "ejercicio_17 = np.zeros((8, 8), dtype=int)\n",
    "ejercicio_17[1::2, ::2] = 1 \n",
    "ejercicio_17[::2, 1::2] = 1  \n",
    "\n",
    "print(ejercicio_17)"
   ]
  },
  {
   "cell_type": "markdown",
   "metadata": {},
   "source": [
    "## Ejercicio 18\n",
    "Replica la matriz del apartado anterior, pero en este caso usando [la función `tile`](https://numpy.org/doc/stable/reference/generated/numpy.tile.html)"
   ]
  },
  {
   "cell_type": "code",
   "execution_count": 38,
   "metadata": {},
   "outputs": [
    {
     "name": "stdout",
     "output_type": "stream",
     "text": [
      "[[0 1 0 1 0 1 0 1]\n",
      " [1 0 1 0 1 0 1 0]\n",
      " [0 1 0 1 0 1 0 1]\n",
      " [1 0 1 0 1 0 1 0]\n",
      " [0 1 0 1 0 1 0 1]\n",
      " [1 0 1 0 1 0 1 0]\n",
      " [0 1 0 1 0 1 0 1]\n",
      " [1 0 1 0 1 0 1 0]]\n"
     ]
    }
   ],
   "source": [
    "bloque = np.array([[0, 1],\n",
    "                   [1, 0]])\n",
    "\n",
    "matriz = np.tile(bloque, (4, 4))\n",
    "\n",
    "print(matriz)"
   ]
  },
  {
   "cell_type": "markdown",
   "metadata": {},
   "source": [
    "## Ejercicio 19\n",
    "Crea una matriz aleatoria de 5x5 y normaliza sus valores. Para normalizar tienes que restar sus valores por la media(`np.mean`) y dividir el resultado por la desviación estándar(`np.std`)."
   ]
  },
  {
   "cell_type": "code",
   "execution_count": 40,
   "metadata": {},
   "outputs": [
    {
     "name": "stdout",
     "output_type": "stream",
     "text": [
      "ejercicio 19:\n",
      "[[0.0612453  0.3413011  0.62538489 0.8190861  0.15943384]\n",
      " [0.27195342 0.7861502  0.56495492 0.49884972 0.85907474]\n",
      " [0.37222792 0.4687541  0.83074232 0.57650265 0.97554916]\n",
      " [0.90662114 0.28836114 0.14871305 0.91137098 0.7615394 ]\n",
      " [0.69568607 0.31471694 0.37104727 0.02131585 0.59732486]]\n",
      "\n",
      "ejercicio 19 normalizado:\n",
      "[[-1.67319749 -0.67166358  0.34427525  1.0369884  -1.3220562 ]\n",
      " [-0.91966434  0.9192032   0.12816592 -0.10823912  1.17999552]\n",
      " [-0.56106326 -0.21586689  1.07867328  0.16946285  1.59653066]\n",
      " [ 1.35003068 -0.86098715 -1.36039584  1.36701705  0.83119021]\n",
      " [ 0.59568592 -0.76673369 -0.56528549 -1.81599298  0.24392711]]\n"
     ]
    }
   ],
   "source": [
    "ejercicio_19 = np.random.rand(5, 5)\n",
    "\n",
    "media = np.mean(ejercicio_19)\n",
    "desviacion = np.std(ejercicio_19)\n",
    "\n",
    "matriz_normalizada = (ejercicio_19 - media) / desviacion\n",
    "\n",
    "print(\"ejercicio 19:\")\n",
    "print(ejercicio_19)\n",
    "print(\"\\nejercicio 19 normalizado:\")\n",
    "print(matriz_normalizada)"
   ]
  },
  {
   "cell_type": "markdown",
   "metadata": {},
   "source": [
    "## Ejercicio 20\n",
    "1. Crea una secuencia de números que vayan del 0 al 10.\n",
    "2. Crea un nuevo array, que parta del anterior, pero sustituya por el valor -1, todos los elementos cuyo valor se encuentre entre el 3 y el 8.\n",
    "3. Crea un nuevo array que niegue todos los elementos entre el 3 y el 8"
   ]
  },
  {
   "cell_type": "code",
   "execution_count": 41,
   "metadata": {},
   "outputs": [
    {
     "name": "stdout",
     "output_type": "stream",
     "text": [
      "ejercicio 20:\n",
      "[ 0  1  2  3  4  5  6  7  8  9 10]\n"
     ]
    }
   ],
   "source": [
    "ejercicio_20 = np.arange(0, 11)\n",
    "print(\"ejercicio 20:\")\n",
    "print(ejercicio_20)\n"
   ]
  },
  {
   "cell_type": "code",
   "execution_count": 43,
   "metadata": {},
   "outputs": [
    {
     "name": "stdout",
     "output_type": "stream",
     "text": [
      "\n",
      "Array con valores entre 3 y 8 reemplazados por -1:\n",
      "[ 0  1  2 -1 -1 -1 -1 -1 -1  9 10]\n"
     ]
    }
   ],
   "source": [
    "ejercicio_20_sustituido = np.where((ejercicio_20 >= 3) & (ejercicio_20 <= 8), -1, ejercicio_20)\n",
    "print(\"\\nArray con valores entre 3 y 8 reemplazados por -1:\")\n",
    "print(ejercicio_20_sustituido)\n"
   ]
  },
  {
   "cell_type": "code",
   "execution_count": 44,
   "metadata": {},
   "outputs": [
    {
     "name": "stdout",
     "output_type": "stream",
     "text": [
      "\n",
      "Array con valores entre 3 y 8 negados:\n",
      "[ 0  1  2 -3 -4 -5 -6 -7 -8  9 10]\n"
     ]
    }
   ],
   "source": [
    "ejercicio_20_negado = np.where((ejercicio_20 >= 3) & (ejercicio_20 <= 8), -ejercicio_20, ejercicio_20)\n",
    "print(\"\\nArray con valores entre 3 y 8 negados:\")\n",
    "print(ejercicio_20_negado)\n"
   ]
  },
  {
   "cell_type": "markdown",
   "metadata": {},
   "source": [
    "## Ejercicio 21\n",
    "#### Bonus track. Mini hundir la flota\n",
    "1. Crea un tablero de 10x10 relleno del carácter espacio ( ).\n",
    "2. Posiciona un par de barcos en [(0,1), (1,1)] y [(1,3), (1,4), (1,5), (1,6)]. Los barcos serán Os mayúsculas. Como ves, un barco de dos posiciones de eslora y otro de cuatro.\n",
    "3. Recibe un disparo en uno de los barcos, sustituyendo la O por una X\n",
    "4. Recibe un disparo en agua, sustituyendo uno de los espacios por un guión: -\n",
    "5. Ignorando los disparos recibidos, ahora prueba a posicionar otro barco de 4 posiciones dentro del tablero, pero **de manera ALEATORIA.**\n",
    "\n",
    "**TIP apartado 5**: El barco tendrá una posición inicial aleatoria dentro del tablero, y una orientación también aleatoria (N,S,E,O).\n",
    "\n",
    "Por ejemplo, si tu posicion inicial fuese (5,0) y la orientación O, no podrias ponerlo porque se sale del tablero. Ahora bien, si fuese orientación este, si podrías, y ocuparía las posiciones [(5,0), (5,1), (5,2), (5,3)]. Por tanto tendrás que iterar con un bucle si es posible encajar el barco en el tablero, y el bucle terminará cuando lo consigas encajar. **Ojo con las posiciones donde ya hay barco!!!**\n",
    "\n",
    "Usa `import random` para elegir las coordenadas aleatorias."
   ]
  },
  {
   "cell_type": "code",
   "execution_count": null,
   "metadata": {},
   "outputs": [],
   "source": []
  },
  {
   "cell_type": "code",
   "execution_count": null,
   "metadata": {},
   "outputs": [],
   "source": []
  },
  {
   "cell_type": "code",
   "execution_count": null,
   "metadata": {},
   "outputs": [],
   "source": []
  },
  {
   "cell_type": "code",
   "execution_count": null,
   "metadata": {},
   "outputs": [],
   "source": []
  },
  {
   "cell_type": "code",
   "execution_count": null,
   "metadata": {},
   "outputs": [],
   "source": []
  },
  {
   "cell_type": "code",
   "execution_count": null,
   "metadata": {},
   "outputs": [],
   "source": []
  },
  {
   "cell_type": "code",
   "execution_count": null,
   "metadata": {},
   "outputs": [],
   "source": []
  },
  {
   "cell_type": "code",
   "execution_count": null,
   "metadata": {},
   "outputs": [],
   "source": []
  },
  {
   "cell_type": "code",
   "execution_count": null,
   "metadata": {},
   "outputs": [],
   "source": []
  },
  {
   "cell_type": "code",
   "execution_count": null,
   "metadata": {},
   "outputs": [],
   "source": []
  },
  {
   "cell_type": "code",
   "execution_count": null,
   "metadata": {},
   "outputs": [],
   "source": []
  },
  {
   "cell_type": "code",
   "execution_count": null,
   "metadata": {},
   "outputs": [],
   "source": []
  },
  {
   "cell_type": "code",
   "execution_count": null,
   "metadata": {},
   "outputs": [],
   "source": []
  },
  {
   "cell_type": "code",
   "execution_count": null,
   "metadata": {},
   "outputs": [],
   "source": []
  }
 ],
 "metadata": {
  "kernelspec": {
   "display_name": "bootcamp-ds-DW8nmJ3b-py3.11",
   "language": "python",
   "name": "python3"
  },
  "language_info": {
   "codemirror_mode": {
    "name": "ipython",
    "version": 3
   },
   "file_extension": ".py",
   "mimetype": "text/x-python",
   "name": "python",
   "nbconvert_exporter": "python",
   "pygments_lexer": "ipython3",
   "version": "3.11.9"
  }
 },
 "nbformat": 4,
 "nbformat_minor": 4
}
